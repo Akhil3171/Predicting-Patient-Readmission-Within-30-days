{
 "cells": [
  {
   "cell_type": "code",
   "execution_count": 1,
   "metadata": {},
   "outputs": [],
   "source": [
    "import numpy as np\n",
    "import pandas as pd\n",
    "import matplotlib.pyplot as plt\n",
    "import seaborn as sns\n",
    "\n",
    "import warnings\n",
    "warnings.filterwarnings('ignore')"
   ]
  },
  {
   "cell_type": "code",
   "execution_count": 2,
   "metadata": {},
   "outputs": [],
   "source": [
    "%matplotlib inline"
   ]
  },
  {
   "cell_type": "markdown",
   "metadata": {},
   "source": [
    "# Basic Explanation\n",
    "* It is important to know if a patient will be readmitted in some hospital. The reason is that you can change the treatment, in order to avoid a readmission.\n",
    "\n",
    "* In this database, you have 3 different outputs:\n",
    "\n",
    "* No readmission;\n",
    "* 1.A readmission in less than 30 days (this situation is not good, because maybe your treatment was not appropriate);\n",
    "* A readmission in more than 30 days (this one is not so good as well the last one, however, the reason can be the state of the patient.\n",
    "* In this context, you can see different objective functions for the problem. You can try to figure out situations where the patient will not be readmitted, or if their are going to be readmitted in less than 30 days (because the problem can the the treatment), etc… Make your choice and let's help them creating new approaches for the problem.\n",
    "\n",
    "\n",
    "\n",
    "\n",
    "#### To understand the description of each column, visit this site https://www.hindawi.com/journals/bmri/2014/781670/tab1/\n",
    "#### This is a Kaggle dataset, and here is the link https://www.kaggle.com/brandao/diabetes\n",
    "\n"
   ]
  },
  {
   "cell_type": "markdown",
   "metadata": {},
   "source": [
    "#### Data Set Description\n",
    "#### VARIABLE NAMES: DESCRIPTION\n",
    "\n",
    "* **Encounter ID:** Unique identifier of an encounter\n",
    "* **Patient number:** Unique identifier of a patient\n",
    "* **Race Values:** Caucasian, Asian, African American, Hispanic, and other\n",
    "* **Gender Values:** male, female, and unknown/invalid\n",
    "* **Age Grouped in 10-year intervals:** 0, 10), 10, 20), …, 90, 100)\n",
    "* **Weight:** Weight in pounds\n",
    "* **Admission type:** Integer identifier corresponding to 9 distinct values, for example, emergency, urgent, elective, newborn, and not available\n",
    "* **Discharge disposition:** Integer identifier corresponding to 29 distinct values, for example, discharged to home, expired, and not available\n",
    "* **Admission source:** Integer identifier corresponding to 21 distinct values, for example, physician referral, emergency room, and transfer from a hospital\n",
    "* **Time in hospital:** Integer number of days between admission and discharge\n",
    "* **Payer code:** Integer identifier corresponding to 23 distinct values, for example, Blue Cross/Blue Shield, Medicare, and self-pay Medical\n",
    "* **Medical specialty:** Integer identifier of a specialty of the admitting physician, corresponding to 84 distinct values, for example, cardiology, internal medicine, family/general practice, and surgeon\n",
    "* **Number of lab procedures:** Number of lab tests performed during the encounter\n",
    "* **Number of procedures:** Numeric Number of procedures (other than lab tests) performed during the encounter\n",
    "* **Number of medications:** Number of distinct generic names administered during the encounter\n",
    "* **Number of outpatient visits:** Number of outpatient visits of the patient in the year preceding the encounter\n",
    "* **Number of emergency visits:** Number of emergency visits of the patient in the year preceding the encounter\n",
    "* **Number of inpatient visits:** Number of inpatient visits of the patient in the year preceding the encounter\n",
    "* **Diagnosis 1:** The primary diagnosis (coded as first three digits of ICD9); 848 distinct values\n",
    "* **Diagnosis 2:** Secondary diagnosis (coded as first three digits of ICD9); 923 distinct values\n",
    "* **Diagnosis 3:** Additional secondary diagnosis (coded as first three digits of ICD9); 954 distinct values\n",
    "* **Number of diagnoses:** Number of diagnoses entered to the system 0%\n",
    "* **Glucose serum test result:** Indicates the range of the result or if the test was not taken. Values: “>200,” “>300,” “normal,” and “none” if not measured\n",
    "* **A1c test result:** Indicates the range of the result or if the test was not taken. Values: “>8” if the result was greater than 8%, “>7” if the result was greater than 7% but less than 8%, “normal” if the result was less than 7%, and “none” if not measured.\n",
    "* **Change of medications:** Indicates if there was a change in diabetic medications (either dosage or generic name). Values: “change” and “no change”\n",
    "* **Diabetes medications:** Indicates if there was any diabetic medication prescribed. Values: “yes” and “no”\n",
    "* **24 features for medications:** For the generic names: metformin, repaglinide, nateglinide, chlorpropamide, glimepiride, acetohexamide, glipizide, glyburide, tolbutamide, pioglitazone, rosiglitazone, acarbose, miglitol, troglitazone, tolazamide, examide, sitagliptin, insulin, glyburide-metformin, glipizide-metformin, glimepiride- pioglitazone, metformin-rosiglitazone, and metformin- pioglitazone, the feature indicates whether the drug was prescribed or there was a change in the dosage. Values: “up” if the dosage was increased during the encounter, “down” if the dosage was decreased, “steady” if the dosage did not change, and “no” if the drug was not prescribed\n",
    "* **Readmitted: Days to inpatient readmission. Values:** “<30” if the patient was readmitted in less than 30 days, “>30” if the patient was readmitted in more than 30 days, and “No” for no record of readmission"
   ]
  },
  {
   "cell_type": "markdown",
   "metadata": {},
   "source": [
    "### Reading the data"
   ]
  },
  {
   "cell_type": "code",
   "execution_count": 3,
   "metadata": {},
   "outputs": [],
   "source": [
    "data = pd.read_csv('diabetic_data.csv')\n",
    "data.replace('?',np.nan,inplace=True)"
   ]
  },
  {
   "cell_type": "markdown",
   "metadata": {},
   "source": [
    "#### Understanding the structure and the columns "
   ]
  },
  {
   "cell_type": "code",
   "execution_count": 4,
   "metadata": {},
   "outputs": [
    {
     "data": {
      "text/plain": [
       "(101766, 50)"
      ]
     },
     "execution_count": 4,
     "metadata": {},
     "output_type": "execute_result"
    }
   ],
   "source": [
    "data.shape"
   ]
  },
  {
   "cell_type": "code",
   "execution_count": 5,
   "metadata": {},
   "outputs": [
    {
     "data": {
      "text/html": [
       "<div>\n",
       "<style scoped>\n",
       "    .dataframe tbody tr th:only-of-type {\n",
       "        vertical-align: middle;\n",
       "    }\n",
       "\n",
       "    .dataframe tbody tr th {\n",
       "        vertical-align: top;\n",
       "    }\n",
       "\n",
       "    .dataframe thead th {\n",
       "        text-align: right;\n",
       "    }\n",
       "</style>\n",
       "<table border=\"1\" class=\"dataframe\">\n",
       "  <thead>\n",
       "    <tr style=\"text-align: right;\">\n",
       "      <th></th>\n",
       "      <th>0</th>\n",
       "      <th>1</th>\n",
       "      <th>2</th>\n",
       "      <th>3</th>\n",
       "      <th>4</th>\n",
       "      <th>5</th>\n",
       "      <th>6</th>\n",
       "      <th>7</th>\n",
       "      <th>8</th>\n",
       "      <th>9</th>\n",
       "    </tr>\n",
       "  </thead>\n",
       "  <tbody>\n",
       "    <tr>\n",
       "      <th>encounter_id</th>\n",
       "      <td>2278392</td>\n",
       "      <td>149190</td>\n",
       "      <td>64410</td>\n",
       "      <td>500364</td>\n",
       "      <td>16680</td>\n",
       "      <td>35754</td>\n",
       "      <td>55842</td>\n",
       "      <td>63768</td>\n",
       "      <td>12522</td>\n",
       "      <td>15738</td>\n",
       "    </tr>\n",
       "    <tr>\n",
       "      <th>patient_nbr</th>\n",
       "      <td>8222157</td>\n",
       "      <td>55629189</td>\n",
       "      <td>86047875</td>\n",
       "      <td>82442376</td>\n",
       "      <td>42519267</td>\n",
       "      <td>82637451</td>\n",
       "      <td>84259809</td>\n",
       "      <td>114882984</td>\n",
       "      <td>48330783</td>\n",
       "      <td>63555939</td>\n",
       "    </tr>\n",
       "    <tr>\n",
       "      <th>race</th>\n",
       "      <td>Caucasian</td>\n",
       "      <td>Caucasian</td>\n",
       "      <td>AfricanAmerican</td>\n",
       "      <td>Caucasian</td>\n",
       "      <td>Caucasian</td>\n",
       "      <td>Caucasian</td>\n",
       "      <td>Caucasian</td>\n",
       "      <td>Caucasian</td>\n",
       "      <td>Caucasian</td>\n",
       "      <td>Caucasian</td>\n",
       "    </tr>\n",
       "    <tr>\n",
       "      <th>gender</th>\n",
       "      <td>Female</td>\n",
       "      <td>Female</td>\n",
       "      <td>Female</td>\n",
       "      <td>Male</td>\n",
       "      <td>Male</td>\n",
       "      <td>Male</td>\n",
       "      <td>Male</td>\n",
       "      <td>Male</td>\n",
       "      <td>Female</td>\n",
       "      <td>Female</td>\n",
       "    </tr>\n",
       "    <tr>\n",
       "      <th>age</th>\n",
       "      <td>[0-10)</td>\n",
       "      <td>[10-20)</td>\n",
       "      <td>[20-30)</td>\n",
       "      <td>[30-40)</td>\n",
       "      <td>[40-50)</td>\n",
       "      <td>[50-60)</td>\n",
       "      <td>[60-70)</td>\n",
       "      <td>[70-80)</td>\n",
       "      <td>[80-90)</td>\n",
       "      <td>[90-100)</td>\n",
       "    </tr>\n",
       "    <tr>\n",
       "      <th>weight</th>\n",
       "      <td>NaN</td>\n",
       "      <td>NaN</td>\n",
       "      <td>NaN</td>\n",
       "      <td>NaN</td>\n",
       "      <td>NaN</td>\n",
       "      <td>NaN</td>\n",
       "      <td>NaN</td>\n",
       "      <td>NaN</td>\n",
       "      <td>NaN</td>\n",
       "      <td>NaN</td>\n",
       "    </tr>\n",
       "    <tr>\n",
       "      <th>admission_type_id</th>\n",
       "      <td>6</td>\n",
       "      <td>1</td>\n",
       "      <td>1</td>\n",
       "      <td>1</td>\n",
       "      <td>1</td>\n",
       "      <td>2</td>\n",
       "      <td>3</td>\n",
       "      <td>1</td>\n",
       "      <td>2</td>\n",
       "      <td>3</td>\n",
       "    </tr>\n",
       "    <tr>\n",
       "      <th>discharge_disposition_id</th>\n",
       "      <td>25</td>\n",
       "      <td>1</td>\n",
       "      <td>1</td>\n",
       "      <td>1</td>\n",
       "      <td>1</td>\n",
       "      <td>1</td>\n",
       "      <td>1</td>\n",
       "      <td>1</td>\n",
       "      <td>1</td>\n",
       "      <td>3</td>\n",
       "    </tr>\n",
       "    <tr>\n",
       "      <th>admission_source_id</th>\n",
       "      <td>1</td>\n",
       "      <td>7</td>\n",
       "      <td>7</td>\n",
       "      <td>7</td>\n",
       "      <td>7</td>\n",
       "      <td>2</td>\n",
       "      <td>2</td>\n",
       "      <td>7</td>\n",
       "      <td>4</td>\n",
       "      <td>4</td>\n",
       "    </tr>\n",
       "    <tr>\n",
       "      <th>time_in_hospital</th>\n",
       "      <td>1</td>\n",
       "      <td>3</td>\n",
       "      <td>2</td>\n",
       "      <td>2</td>\n",
       "      <td>1</td>\n",
       "      <td>3</td>\n",
       "      <td>4</td>\n",
       "      <td>5</td>\n",
       "      <td>13</td>\n",
       "      <td>12</td>\n",
       "    </tr>\n",
       "    <tr>\n",
       "      <th>payer_code</th>\n",
       "      <td>NaN</td>\n",
       "      <td>NaN</td>\n",
       "      <td>NaN</td>\n",
       "      <td>NaN</td>\n",
       "      <td>NaN</td>\n",
       "      <td>NaN</td>\n",
       "      <td>NaN</td>\n",
       "      <td>NaN</td>\n",
       "      <td>NaN</td>\n",
       "      <td>NaN</td>\n",
       "    </tr>\n",
       "    <tr>\n",
       "      <th>medical_specialty</th>\n",
       "      <td>Pediatrics-Endocrinology</td>\n",
       "      <td>NaN</td>\n",
       "      <td>NaN</td>\n",
       "      <td>NaN</td>\n",
       "      <td>NaN</td>\n",
       "      <td>NaN</td>\n",
       "      <td>NaN</td>\n",
       "      <td>NaN</td>\n",
       "      <td>NaN</td>\n",
       "      <td>InternalMedicine</td>\n",
       "    </tr>\n",
       "    <tr>\n",
       "      <th>num_lab_procedures</th>\n",
       "      <td>41</td>\n",
       "      <td>59</td>\n",
       "      <td>11</td>\n",
       "      <td>44</td>\n",
       "      <td>51</td>\n",
       "      <td>31</td>\n",
       "      <td>70</td>\n",
       "      <td>73</td>\n",
       "      <td>68</td>\n",
       "      <td>33</td>\n",
       "    </tr>\n",
       "    <tr>\n",
       "      <th>num_procedures</th>\n",
       "      <td>0</td>\n",
       "      <td>0</td>\n",
       "      <td>5</td>\n",
       "      <td>1</td>\n",
       "      <td>0</td>\n",
       "      <td>6</td>\n",
       "      <td>1</td>\n",
       "      <td>0</td>\n",
       "      <td>2</td>\n",
       "      <td>3</td>\n",
       "    </tr>\n",
       "    <tr>\n",
       "      <th>num_medications</th>\n",
       "      <td>1</td>\n",
       "      <td>18</td>\n",
       "      <td>13</td>\n",
       "      <td>16</td>\n",
       "      <td>8</td>\n",
       "      <td>16</td>\n",
       "      <td>21</td>\n",
       "      <td>12</td>\n",
       "      <td>28</td>\n",
       "      <td>18</td>\n",
       "    </tr>\n",
       "    <tr>\n",
       "      <th>number_outpatient</th>\n",
       "      <td>0</td>\n",
       "      <td>0</td>\n",
       "      <td>2</td>\n",
       "      <td>0</td>\n",
       "      <td>0</td>\n",
       "      <td>0</td>\n",
       "      <td>0</td>\n",
       "      <td>0</td>\n",
       "      <td>0</td>\n",
       "      <td>0</td>\n",
       "    </tr>\n",
       "    <tr>\n",
       "      <th>number_emergency</th>\n",
       "      <td>0</td>\n",
       "      <td>0</td>\n",
       "      <td>0</td>\n",
       "      <td>0</td>\n",
       "      <td>0</td>\n",
       "      <td>0</td>\n",
       "      <td>0</td>\n",
       "      <td>0</td>\n",
       "      <td>0</td>\n",
       "      <td>0</td>\n",
       "    </tr>\n",
       "    <tr>\n",
       "      <th>number_inpatient</th>\n",
       "      <td>0</td>\n",
       "      <td>0</td>\n",
       "      <td>1</td>\n",
       "      <td>0</td>\n",
       "      <td>0</td>\n",
       "      <td>0</td>\n",
       "      <td>0</td>\n",
       "      <td>0</td>\n",
       "      <td>0</td>\n",
       "      <td>0</td>\n",
       "    </tr>\n",
       "    <tr>\n",
       "      <th>diag_1</th>\n",
       "      <td>250.83</td>\n",
       "      <td>276</td>\n",
       "      <td>648</td>\n",
       "      <td>8</td>\n",
       "      <td>197</td>\n",
       "      <td>414</td>\n",
       "      <td>414</td>\n",
       "      <td>428</td>\n",
       "      <td>398</td>\n",
       "      <td>434</td>\n",
       "    </tr>\n",
       "    <tr>\n",
       "      <th>diag_2</th>\n",
       "      <td>NaN</td>\n",
       "      <td>250.01</td>\n",
       "      <td>250</td>\n",
       "      <td>250.43</td>\n",
       "      <td>157</td>\n",
       "      <td>411</td>\n",
       "      <td>411</td>\n",
       "      <td>492</td>\n",
       "      <td>427</td>\n",
       "      <td>198</td>\n",
       "    </tr>\n",
       "    <tr>\n",
       "      <th>diag_3</th>\n",
       "      <td>NaN</td>\n",
       "      <td>255</td>\n",
       "      <td>V27</td>\n",
       "      <td>403</td>\n",
       "      <td>250</td>\n",
       "      <td>250</td>\n",
       "      <td>V45</td>\n",
       "      <td>250</td>\n",
       "      <td>38</td>\n",
       "      <td>486</td>\n",
       "    </tr>\n",
       "    <tr>\n",
       "      <th>number_diagnoses</th>\n",
       "      <td>1</td>\n",
       "      <td>9</td>\n",
       "      <td>6</td>\n",
       "      <td>7</td>\n",
       "      <td>5</td>\n",
       "      <td>9</td>\n",
       "      <td>7</td>\n",
       "      <td>8</td>\n",
       "      <td>8</td>\n",
       "      <td>8</td>\n",
       "    </tr>\n",
       "    <tr>\n",
       "      <th>max_glu_serum</th>\n",
       "      <td>None</td>\n",
       "      <td>None</td>\n",
       "      <td>None</td>\n",
       "      <td>None</td>\n",
       "      <td>None</td>\n",
       "      <td>None</td>\n",
       "      <td>None</td>\n",
       "      <td>None</td>\n",
       "      <td>None</td>\n",
       "      <td>None</td>\n",
       "    </tr>\n",
       "    <tr>\n",
       "      <th>A1Cresult</th>\n",
       "      <td>None</td>\n",
       "      <td>None</td>\n",
       "      <td>None</td>\n",
       "      <td>None</td>\n",
       "      <td>None</td>\n",
       "      <td>None</td>\n",
       "      <td>None</td>\n",
       "      <td>None</td>\n",
       "      <td>None</td>\n",
       "      <td>None</td>\n",
       "    </tr>\n",
       "    <tr>\n",
       "      <th>metformin</th>\n",
       "      <td>No</td>\n",
       "      <td>No</td>\n",
       "      <td>No</td>\n",
       "      <td>No</td>\n",
       "      <td>No</td>\n",
       "      <td>No</td>\n",
       "      <td>Steady</td>\n",
       "      <td>No</td>\n",
       "      <td>No</td>\n",
       "      <td>No</td>\n",
       "    </tr>\n",
       "    <tr>\n",
       "      <th>repaglinide</th>\n",
       "      <td>No</td>\n",
       "      <td>No</td>\n",
       "      <td>No</td>\n",
       "      <td>No</td>\n",
       "      <td>No</td>\n",
       "      <td>No</td>\n",
       "      <td>No</td>\n",
       "      <td>No</td>\n",
       "      <td>No</td>\n",
       "      <td>No</td>\n",
       "    </tr>\n",
       "    <tr>\n",
       "      <th>nateglinide</th>\n",
       "      <td>No</td>\n",
       "      <td>No</td>\n",
       "      <td>No</td>\n",
       "      <td>No</td>\n",
       "      <td>No</td>\n",
       "      <td>No</td>\n",
       "      <td>No</td>\n",
       "      <td>No</td>\n",
       "      <td>No</td>\n",
       "      <td>No</td>\n",
       "    </tr>\n",
       "    <tr>\n",
       "      <th>chlorpropamide</th>\n",
       "      <td>No</td>\n",
       "      <td>No</td>\n",
       "      <td>No</td>\n",
       "      <td>No</td>\n",
       "      <td>No</td>\n",
       "      <td>No</td>\n",
       "      <td>No</td>\n",
       "      <td>No</td>\n",
       "      <td>No</td>\n",
       "      <td>No</td>\n",
       "    </tr>\n",
       "    <tr>\n",
       "      <th>glimepiride</th>\n",
       "      <td>No</td>\n",
       "      <td>No</td>\n",
       "      <td>No</td>\n",
       "      <td>No</td>\n",
       "      <td>No</td>\n",
       "      <td>No</td>\n",
       "      <td>Steady</td>\n",
       "      <td>No</td>\n",
       "      <td>No</td>\n",
       "      <td>No</td>\n",
       "    </tr>\n",
       "    <tr>\n",
       "      <th>acetohexamide</th>\n",
       "      <td>No</td>\n",
       "      <td>No</td>\n",
       "      <td>No</td>\n",
       "      <td>No</td>\n",
       "      <td>No</td>\n",
       "      <td>No</td>\n",
       "      <td>No</td>\n",
       "      <td>No</td>\n",
       "      <td>No</td>\n",
       "      <td>No</td>\n",
       "    </tr>\n",
       "    <tr>\n",
       "      <th>glipizide</th>\n",
       "      <td>No</td>\n",
       "      <td>No</td>\n",
       "      <td>Steady</td>\n",
       "      <td>No</td>\n",
       "      <td>Steady</td>\n",
       "      <td>No</td>\n",
       "      <td>No</td>\n",
       "      <td>No</td>\n",
       "      <td>Steady</td>\n",
       "      <td>No</td>\n",
       "    </tr>\n",
       "    <tr>\n",
       "      <th>glyburide</th>\n",
       "      <td>No</td>\n",
       "      <td>No</td>\n",
       "      <td>No</td>\n",
       "      <td>No</td>\n",
       "      <td>No</td>\n",
       "      <td>No</td>\n",
       "      <td>No</td>\n",
       "      <td>Steady</td>\n",
       "      <td>No</td>\n",
       "      <td>No</td>\n",
       "    </tr>\n",
       "    <tr>\n",
       "      <th>tolbutamide</th>\n",
       "      <td>No</td>\n",
       "      <td>No</td>\n",
       "      <td>No</td>\n",
       "      <td>No</td>\n",
       "      <td>No</td>\n",
       "      <td>No</td>\n",
       "      <td>No</td>\n",
       "      <td>No</td>\n",
       "      <td>No</td>\n",
       "      <td>No</td>\n",
       "    </tr>\n",
       "    <tr>\n",
       "      <th>pioglitazone</th>\n",
       "      <td>No</td>\n",
       "      <td>No</td>\n",
       "      <td>No</td>\n",
       "      <td>No</td>\n",
       "      <td>No</td>\n",
       "      <td>No</td>\n",
       "      <td>No</td>\n",
       "      <td>No</td>\n",
       "      <td>No</td>\n",
       "      <td>No</td>\n",
       "    </tr>\n",
       "    <tr>\n",
       "      <th>rosiglitazone</th>\n",
       "      <td>No</td>\n",
       "      <td>No</td>\n",
       "      <td>No</td>\n",
       "      <td>No</td>\n",
       "      <td>No</td>\n",
       "      <td>No</td>\n",
       "      <td>No</td>\n",
       "      <td>No</td>\n",
       "      <td>No</td>\n",
       "      <td>Steady</td>\n",
       "    </tr>\n",
       "    <tr>\n",
       "      <th>acarbose</th>\n",
       "      <td>No</td>\n",
       "      <td>No</td>\n",
       "      <td>No</td>\n",
       "      <td>No</td>\n",
       "      <td>No</td>\n",
       "      <td>No</td>\n",
       "      <td>No</td>\n",
       "      <td>No</td>\n",
       "      <td>No</td>\n",
       "      <td>No</td>\n",
       "    </tr>\n",
       "    <tr>\n",
       "      <th>miglitol</th>\n",
       "      <td>No</td>\n",
       "      <td>No</td>\n",
       "      <td>No</td>\n",
       "      <td>No</td>\n",
       "      <td>No</td>\n",
       "      <td>No</td>\n",
       "      <td>No</td>\n",
       "      <td>No</td>\n",
       "      <td>No</td>\n",
       "      <td>No</td>\n",
       "    </tr>\n",
       "    <tr>\n",
       "      <th>troglitazone</th>\n",
       "      <td>No</td>\n",
       "      <td>No</td>\n",
       "      <td>No</td>\n",
       "      <td>No</td>\n",
       "      <td>No</td>\n",
       "      <td>No</td>\n",
       "      <td>No</td>\n",
       "      <td>No</td>\n",
       "      <td>No</td>\n",
       "      <td>No</td>\n",
       "    </tr>\n",
       "    <tr>\n",
       "      <th>tolazamide</th>\n",
       "      <td>No</td>\n",
       "      <td>No</td>\n",
       "      <td>No</td>\n",
       "      <td>No</td>\n",
       "      <td>No</td>\n",
       "      <td>No</td>\n",
       "      <td>No</td>\n",
       "      <td>No</td>\n",
       "      <td>No</td>\n",
       "      <td>No</td>\n",
       "    </tr>\n",
       "    <tr>\n",
       "      <th>examide</th>\n",
       "      <td>No</td>\n",
       "      <td>No</td>\n",
       "      <td>No</td>\n",
       "      <td>No</td>\n",
       "      <td>No</td>\n",
       "      <td>No</td>\n",
       "      <td>No</td>\n",
       "      <td>No</td>\n",
       "      <td>No</td>\n",
       "      <td>No</td>\n",
       "    </tr>\n",
       "    <tr>\n",
       "      <th>citoglipton</th>\n",
       "      <td>No</td>\n",
       "      <td>No</td>\n",
       "      <td>No</td>\n",
       "      <td>No</td>\n",
       "      <td>No</td>\n",
       "      <td>No</td>\n",
       "      <td>No</td>\n",
       "      <td>No</td>\n",
       "      <td>No</td>\n",
       "      <td>No</td>\n",
       "    </tr>\n",
       "    <tr>\n",
       "      <th>insulin</th>\n",
       "      <td>No</td>\n",
       "      <td>Up</td>\n",
       "      <td>No</td>\n",
       "      <td>Up</td>\n",
       "      <td>Steady</td>\n",
       "      <td>Steady</td>\n",
       "      <td>Steady</td>\n",
       "      <td>No</td>\n",
       "      <td>Steady</td>\n",
       "      <td>Steady</td>\n",
       "    </tr>\n",
       "    <tr>\n",
       "      <th>glyburide-metformin</th>\n",
       "      <td>No</td>\n",
       "      <td>No</td>\n",
       "      <td>No</td>\n",
       "      <td>No</td>\n",
       "      <td>No</td>\n",
       "      <td>No</td>\n",
       "      <td>No</td>\n",
       "      <td>No</td>\n",
       "      <td>No</td>\n",
       "      <td>No</td>\n",
       "    </tr>\n",
       "    <tr>\n",
       "      <th>glipizide-metformin</th>\n",
       "      <td>No</td>\n",
       "      <td>No</td>\n",
       "      <td>No</td>\n",
       "      <td>No</td>\n",
       "      <td>No</td>\n",
       "      <td>No</td>\n",
       "      <td>No</td>\n",
       "      <td>No</td>\n",
       "      <td>No</td>\n",
       "      <td>No</td>\n",
       "    </tr>\n",
       "    <tr>\n",
       "      <th>glimepiride-pioglitazone</th>\n",
       "      <td>No</td>\n",
       "      <td>No</td>\n",
       "      <td>No</td>\n",
       "      <td>No</td>\n",
       "      <td>No</td>\n",
       "      <td>No</td>\n",
       "      <td>No</td>\n",
       "      <td>No</td>\n",
       "      <td>No</td>\n",
       "      <td>No</td>\n",
       "    </tr>\n",
       "    <tr>\n",
       "      <th>metformin-rosiglitazone</th>\n",
       "      <td>No</td>\n",
       "      <td>No</td>\n",
       "      <td>No</td>\n",
       "      <td>No</td>\n",
       "      <td>No</td>\n",
       "      <td>No</td>\n",
       "      <td>No</td>\n",
       "      <td>No</td>\n",
       "      <td>No</td>\n",
       "      <td>No</td>\n",
       "    </tr>\n",
       "    <tr>\n",
       "      <th>metformin-pioglitazone</th>\n",
       "      <td>No</td>\n",
       "      <td>No</td>\n",
       "      <td>No</td>\n",
       "      <td>No</td>\n",
       "      <td>No</td>\n",
       "      <td>No</td>\n",
       "      <td>No</td>\n",
       "      <td>No</td>\n",
       "      <td>No</td>\n",
       "      <td>No</td>\n",
       "    </tr>\n",
       "    <tr>\n",
       "      <th>change</th>\n",
       "      <td>No</td>\n",
       "      <td>Ch</td>\n",
       "      <td>No</td>\n",
       "      <td>Ch</td>\n",
       "      <td>Ch</td>\n",
       "      <td>No</td>\n",
       "      <td>Ch</td>\n",
       "      <td>No</td>\n",
       "      <td>Ch</td>\n",
       "      <td>Ch</td>\n",
       "    </tr>\n",
       "    <tr>\n",
       "      <th>diabetesMed</th>\n",
       "      <td>No</td>\n",
       "      <td>Yes</td>\n",
       "      <td>Yes</td>\n",
       "      <td>Yes</td>\n",
       "      <td>Yes</td>\n",
       "      <td>Yes</td>\n",
       "      <td>Yes</td>\n",
       "      <td>Yes</td>\n",
       "      <td>Yes</td>\n",
       "      <td>Yes</td>\n",
       "    </tr>\n",
       "    <tr>\n",
       "      <th>readmitted</th>\n",
       "      <td>NO</td>\n",
       "      <td>&gt;30</td>\n",
       "      <td>NO</td>\n",
       "      <td>NO</td>\n",
       "      <td>NO</td>\n",
       "      <td>&gt;30</td>\n",
       "      <td>NO</td>\n",
       "      <td>&gt;30</td>\n",
       "      <td>NO</td>\n",
       "      <td>NO</td>\n",
       "    </tr>\n",
       "  </tbody>\n",
       "</table>\n",
       "</div>"
      ],
      "text/plain": [
       "                                                 0          1  \\\n",
       "encounter_id                               2278392     149190   \n",
       "patient_nbr                                8222157   55629189   \n",
       "race                                     Caucasian  Caucasian   \n",
       "gender                                      Female     Female   \n",
       "age                                         [0-10)    [10-20)   \n",
       "weight                                         NaN        NaN   \n",
       "admission_type_id                                6          1   \n",
       "discharge_disposition_id                        25          1   \n",
       "admission_source_id                              1          7   \n",
       "time_in_hospital                                 1          3   \n",
       "payer_code                                     NaN        NaN   \n",
       "medical_specialty         Pediatrics-Endocrinology        NaN   \n",
       "num_lab_procedures                              41         59   \n",
       "num_procedures                                   0          0   \n",
       "num_medications                                  1         18   \n",
       "number_outpatient                                0          0   \n",
       "number_emergency                                 0          0   \n",
       "number_inpatient                                 0          0   \n",
       "diag_1                                      250.83        276   \n",
       "diag_2                                         NaN     250.01   \n",
       "diag_3                                         NaN        255   \n",
       "number_diagnoses                                 1          9   \n",
       "max_glu_serum                                 None       None   \n",
       "A1Cresult                                     None       None   \n",
       "metformin                                       No         No   \n",
       "repaglinide                                     No         No   \n",
       "nateglinide                                     No         No   \n",
       "chlorpropamide                                  No         No   \n",
       "glimepiride                                     No         No   \n",
       "acetohexamide                                   No         No   \n",
       "glipizide                                       No         No   \n",
       "glyburide                                       No         No   \n",
       "tolbutamide                                     No         No   \n",
       "pioglitazone                                    No         No   \n",
       "rosiglitazone                                   No         No   \n",
       "acarbose                                        No         No   \n",
       "miglitol                                        No         No   \n",
       "troglitazone                                    No         No   \n",
       "tolazamide                                      No         No   \n",
       "examide                                         No         No   \n",
       "citoglipton                                     No         No   \n",
       "insulin                                         No         Up   \n",
       "glyburide-metformin                             No         No   \n",
       "glipizide-metformin                             No         No   \n",
       "glimepiride-pioglitazone                        No         No   \n",
       "metformin-rosiglitazone                         No         No   \n",
       "metformin-pioglitazone                          No         No   \n",
       "change                                          No         Ch   \n",
       "diabetesMed                                     No        Yes   \n",
       "readmitted                                      NO        >30   \n",
       "\n",
       "                                        2          3          4          5  \\\n",
       "encounter_id                        64410     500364      16680      35754   \n",
       "patient_nbr                      86047875   82442376   42519267   82637451   \n",
       "race                      AfricanAmerican  Caucasian  Caucasian  Caucasian   \n",
       "gender                             Female       Male       Male       Male   \n",
       "age                               [20-30)    [30-40)    [40-50)    [50-60)   \n",
       "weight                                NaN        NaN        NaN        NaN   \n",
       "admission_type_id                       1          1          1          2   \n",
       "discharge_disposition_id                1          1          1          1   \n",
       "admission_source_id                     7          7          7          2   \n",
       "time_in_hospital                        2          2          1          3   \n",
       "payer_code                            NaN        NaN        NaN        NaN   \n",
       "medical_specialty                     NaN        NaN        NaN        NaN   \n",
       "num_lab_procedures                     11         44         51         31   \n",
       "num_procedures                          5          1          0          6   \n",
       "num_medications                        13         16          8         16   \n",
       "number_outpatient                       2          0          0          0   \n",
       "number_emergency                        0          0          0          0   \n",
       "number_inpatient                        1          0          0          0   \n",
       "diag_1                                648          8        197        414   \n",
       "diag_2                                250     250.43        157        411   \n",
       "diag_3                                V27        403        250        250   \n",
       "number_diagnoses                        6          7          5          9   \n",
       "max_glu_serum                        None       None       None       None   \n",
       "A1Cresult                            None       None       None       None   \n",
       "metformin                              No         No         No         No   \n",
       "repaglinide                            No         No         No         No   \n",
       "nateglinide                            No         No         No         No   \n",
       "chlorpropamide                         No         No         No         No   \n",
       "glimepiride                            No         No         No         No   \n",
       "acetohexamide                          No         No         No         No   \n",
       "glipizide                          Steady         No     Steady         No   \n",
       "glyburide                              No         No         No         No   \n",
       "tolbutamide                            No         No         No         No   \n",
       "pioglitazone                           No         No         No         No   \n",
       "rosiglitazone                          No         No         No         No   \n",
       "acarbose                               No         No         No         No   \n",
       "miglitol                               No         No         No         No   \n",
       "troglitazone                           No         No         No         No   \n",
       "tolazamide                             No         No         No         No   \n",
       "examide                                No         No         No         No   \n",
       "citoglipton                            No         No         No         No   \n",
       "insulin                                No         Up     Steady     Steady   \n",
       "glyburide-metformin                    No         No         No         No   \n",
       "glipizide-metformin                    No         No         No         No   \n",
       "glimepiride-pioglitazone               No         No         No         No   \n",
       "metformin-rosiglitazone                No         No         No         No   \n",
       "metformin-pioglitazone                 No         No         No         No   \n",
       "change                                 No         Ch         Ch         No   \n",
       "diabetesMed                           Yes        Yes        Yes        Yes   \n",
       "readmitted                             NO         NO         NO        >30   \n",
       "\n",
       "                                  6          7          8                 9  \n",
       "encounter_id                  55842      63768      12522             15738  \n",
       "patient_nbr                84259809  114882984   48330783          63555939  \n",
       "race                      Caucasian  Caucasian  Caucasian         Caucasian  \n",
       "gender                         Male       Male     Female            Female  \n",
       "age                         [60-70)    [70-80)    [80-90)          [90-100)  \n",
       "weight                          NaN        NaN        NaN               NaN  \n",
       "admission_type_id                 3          1          2                 3  \n",
       "discharge_disposition_id          1          1          1                 3  \n",
       "admission_source_id               2          7          4                 4  \n",
       "time_in_hospital                  4          5         13                12  \n",
       "payer_code                      NaN        NaN        NaN               NaN  \n",
       "medical_specialty               NaN        NaN        NaN  InternalMedicine  \n",
       "num_lab_procedures               70         73         68                33  \n",
       "num_procedures                    1          0          2                 3  \n",
       "num_medications                  21         12         28                18  \n",
       "number_outpatient                 0          0          0                 0  \n",
       "number_emergency                  0          0          0                 0  \n",
       "number_inpatient                  0          0          0                 0  \n",
       "diag_1                          414        428        398               434  \n",
       "diag_2                          411        492        427               198  \n",
       "diag_3                          V45        250         38               486  \n",
       "number_diagnoses                  7          8          8                 8  \n",
       "max_glu_serum                  None       None       None              None  \n",
       "A1Cresult                      None       None       None              None  \n",
       "metformin                    Steady         No         No                No  \n",
       "repaglinide                      No         No         No                No  \n",
       "nateglinide                      No         No         No                No  \n",
       "chlorpropamide                   No         No         No                No  \n",
       "glimepiride                  Steady         No         No                No  \n",
       "acetohexamide                    No         No         No                No  \n",
       "glipizide                        No         No     Steady                No  \n",
       "glyburide                        No     Steady         No                No  \n",
       "tolbutamide                      No         No         No                No  \n",
       "pioglitazone                     No         No         No                No  \n",
       "rosiglitazone                    No         No         No            Steady  \n",
       "acarbose                         No         No         No                No  \n",
       "miglitol                         No         No         No                No  \n",
       "troglitazone                     No         No         No                No  \n",
       "tolazamide                       No         No         No                No  \n",
       "examide                          No         No         No                No  \n",
       "citoglipton                      No         No         No                No  \n",
       "insulin                      Steady         No     Steady            Steady  \n",
       "glyburide-metformin              No         No         No                No  \n",
       "glipizide-metformin              No         No         No                No  \n",
       "glimepiride-pioglitazone         No         No         No                No  \n",
       "metformin-rosiglitazone          No         No         No                No  \n",
       "metformin-pioglitazone           No         No         No                No  \n",
       "change                           Ch         No         Ch                Ch  \n",
       "diabetesMed                     Yes        Yes        Yes               Yes  \n",
       "readmitted                       NO        >30         NO                NO  "
      ]
     },
     "execution_count": 5,
     "metadata": {},
     "output_type": "execute_result"
    }
   ],
   "source": [
    "data.head(10).T"
   ]
  },
  {
   "cell_type": "code",
   "execution_count": 6,
   "metadata": {},
   "outputs": [
    {
     "data": {
      "text/plain": [
       "weight               96.86\n",
       "medical_specialty    49.08\n",
       "payer_code           39.56\n",
       "race                  2.23\n",
       "diag_3                1.40\n",
       "diag_2                0.35\n",
       "diag_1                0.02\n",
       "num_procedures        0.00\n",
       "max_glu_serum         0.00\n",
       "number_diagnoses      0.00\n",
       "dtype: float64"
      ]
     },
     "execution_count": 6,
     "metadata": {},
     "output_type": "execute_result"
    }
   ],
   "source": [
    "round(data.isna().mean().sort_values(ascending = False).head(10)*100,2)"
   ]
  },
  {
   "cell_type": "code",
   "execution_count": 7,
   "metadata": {},
   "outputs": [
    {
     "data": {
      "image/png": "[encoded data removed]",
      "text/plain": [
       "<Figure size 1080x720 with 2 Axes>"
      ]
     },
     "metadata": {
      "needs_background": "light"
     },
     "output_type": "display_data"
    }
   ],
   "source": [
    "plt.figure(figsize=(15,10))\n",
    "sns.heatmap(data.isnull().T, cbar='rainbow')\n",
    "plt.tight_layout()"
   ]
  },
  {
   "cell_type": "code",
   "execution_count": 8,
   "metadata": {},
   "outputs": [
    {
     "data": {
      "text/plain": [
       "Index(['encounter_id', 'patient_nbr', 'race', 'gender', 'age', 'weight',\n",
       "       'admission_type_id', 'discharge_disposition_id', 'admission_source_id',\n",
       "       'time_in_hospital', 'payer_code', 'medical_specialty',\n",
       "       'num_lab_procedures', 'num_procedures', 'num_medications',\n",
       "       'number_outpatient', 'number_emergency', 'number_inpatient', 'diag_1',\n",
       "       'diag_2', 'diag_3', 'number_diagnoses', 'max_glu_serum', 'A1Cresult',\n",
       "       'metformin', 'repaglinide', 'nateglinide', 'chlorpropamide',\n",
       "       'glimepiride', 'acetohexamide', 'glipizide', 'glyburide', 'tolbutamide',\n",
       "       'pioglitazone', 'rosiglitazone', 'acarbose', 'miglitol', 'troglitazone',\n",
       "       'tolazamide', 'examide', 'citoglipton', 'insulin',\n",
       "       'glyburide-metformin', 'glipizide-metformin',\n",
       "       'glimepiride-pioglitazone', 'metformin-rosiglitazone',\n",
       "       'metformin-pioglitazone', 'change', 'diabetesMed', 'readmitted'],\n",
       "      dtype='object')"
      ]
     },
     "execution_count": 8,
     "metadata": {},
     "output_type": "execute_result"
    }
   ],
   "source": [
    "data.columns"
   ]
  },
  {
   "cell_type": "markdown",
   "metadata": {},
   "source": [
    "#### Data Visualization"
   ]
  },
  {
   "cell_type": "code",
   "execution_count": 9,
   "metadata": {},
   "outputs": [],
   "source": [
    "def barplot(x, hue = None):\n",
    "    plt.figure(figsize = (10,6))\n",
    "    bar_plot1 = sns.countplot(x = x, data = data, hue = hue)\n",
    "    for p in bar_plot1.patches:\n",
    "        height = p.get_height()\n",
    "        bar_plot1.text(p.get_x()+ p.get_width()/2, 1.002*height,height, ha = 'center')\n",
    "    plt.tight_layout()"
   ]
  },
  {
   "cell_type": "code",
   "execution_count": 10,
   "metadata": {},
   "outputs": [
    {
     "data": {
      "image/png": "[encoded data removed]",
      "text/plain": [
       "<Figure size 720x432 with 1 Axes>"
      ]
     },
     "metadata": {
      "needs_background": "light"
     },
     "output_type": "display_data"
    }
   ],
   "source": [
    "barplot('race', 'readmitted')\n",
    "# Most of the data consists of race Causasian, white skin, and the readmission of every race are in almost same proportion"
   ]
  },
  {
   "cell_type": "code",
   "execution_count": 11,
   "metadata": {
    "scrolled": true
   },
   "outputs": [
    {
     "name": "stderr",
     "output_type": "stream",
     "text": [
      "posx and posy should be finite values\n",
      "posx and posy should be finite values\n",
      "posx and posy should be finite values\n",
      "posx and posy should be finite values\n"
     ]
    },
    {
     "data": {
      "image/png": "[encoded data removed]",
      "text/plain": [
       "<Figure size 720x432 with 1 Axes>"
      ]
     },
     "metadata": {
      "needs_background": "light"
     },
     "output_type": "display_data"
    }
   ],
   "source": [
    "barplot('gender', 'readmitted')\n",
    "# There is no class imbalance between male and female"
   ]
  },
  {
   "cell_type": "code",
   "execution_count": 12,
   "metadata": {},
   "outputs": [
    {
     "data": {
      "image/png": "[encoded data removed]",
      "text/plain": [
       "<Figure size 720x432 with 1 Axes>"
      ]
     },
     "metadata": {
      "needs_background": "light"
     },
     "output_type": "display_data"
    }
   ],
   "source": [
    "barplot('age', 'readmitted')\n",
    "# Elder people more likely get admitted to hospital due to HbA1c"
   ]
  },
  {
   "cell_type": "code",
   "execution_count": 13,
   "metadata": {},
   "outputs": [
    {
     "data": {
      "text/plain": [
       "<matplotlib.legend.Legend at 0x1d599b415b0>"
      ]
     },
     "execution_count": 13,
     "metadata": {},
     "output_type": "execute_result"
    },
    {
     "name": "stderr",
     "output_type": "stream",
     "text": [
      "posx and posy should be finite values\n",
      "posx and posy should be finite values\n",
      "posx and posy should be finite values\n",
      "posx and posy should be finite values\n"
     ]
    },
    {
     "data": {
      "image/png": "[encoded data removed]",
      "text/plain": [
       "<Figure size 720x432 with 1 Axes>"
      ]
     },
     "metadata": {
      "needs_background": "light"
     },
     "output_type": "display_data"
    }
   ],
   "source": [
    "barplot('weight', 'readmitted')\n",
    "plt.legend(loc = 1)\n",
    "# Most of the data is missing"
   ]
  },
  {
   "cell_type": "code",
   "execution_count": 14,
   "metadata": {},
   "outputs": [
    {
     "data": {
      "image/png": "[encoded data removed]",
      "text/plain": [
       "<Figure size 720x432 with 1 Axes>"
      ]
     },
     "metadata": {
      "needs_background": "light"
     },
     "output_type": "display_data"
    }
   ],
   "source": [
    "barplot('time_in_hospital','readmitted')\n",
    "# Comparatively more number of people are admitted for a fewer days"
   ]
  },
  {
   "cell_type": "code",
   "execution_count": 15,
   "metadata": {},
   "outputs": [
    {
     "data": {
      "image/png": "[encoded data removed]",
      "text/plain": [
       "<Figure size 720x432 with 1 Axes>"
      ]
     },
     "metadata": {
      "needs_background": "light"
     },
     "output_type": "display_data"
    }
   ],
   "source": [
    "barplot('max_glu_serum', 'readmitted')\n",
    "# For most of the patients, the glucose serum test is not conducted"
   ]
  },
  {
   "cell_type": "code",
   "execution_count": 16,
   "metadata": {},
   "outputs": [
    {
     "data": {
      "image/png": "[encoded data removed]",
      "text/plain": [
       "<Figure size 720x432 with 1 Axes>"
      ]
     },
     "metadata": {
      "needs_background": "light"
     },
     "output_type": "display_data"
    }
   ],
   "source": [
    "barplot('A1Cresult','readmitted')\n",
    "# For most of  the patients, A1c test result was not measured"
   ]
  },
  {
   "cell_type": "code",
   "execution_count": 17,
   "metadata": {},
   "outputs": [
    {
     "data": {
      "image/png": "[encoded data removed]",
      "text/plain": [
       "<Figure size 720x432 with 1 Axes>"
      ]
     },
     "metadata": {
      "needs_background": "light"
     },
     "output_type": "display_data"
    }
   ],
   "source": [
    "barplot('diabetesMed','readmitted')\n",
    "# Diabetic meds are prescribed for most of the patients"
   ]
  },
  {
   "cell_type": "code",
   "execution_count": 18,
   "metadata": {},
   "outputs": [
    {
     "data": {
      "image/png": "[encoded data removed]",
      "text/plain": [
       "<Figure size 720x432 with 1 Axes>"
      ]
     },
     "metadata": {
      "needs_background": "light"
     },
     "output_type": "display_data"
    }
   ],
   "source": [
    "barplot('change', 'readmitted')\n",
    "# There is no high variation in the readmission data whether the medication is changed or not"
   ]
  },
  {
   "cell_type": "markdown",
   "metadata": {},
   "source": [
    "Removing those columns which have high NAs and also removing ID columns they won't be much useful in model building"
   ]
  },
  {
   "cell_type": "code",
   "execution_count": 19,
   "metadata": {},
   "outputs": [],
   "source": [
    "# Removing columns which have high NAs\n",
    "data.drop(['weight', 'payer_code', 'medical_specialty'], axis = 1, inplace=True)\n",
    "\n",
    "# Removing all ID columns\n",
    "data.drop(['encounter_id','patient_nbr', 'admission_type_id', 'discharge_disposition_id', 'admission_source_id'], axis = 1,  inplace=True)\n",
    "\n",
    "# In gender there are three datapoints which have invalid gender, it's a very minimal data so remove them\n",
    "data = data[data['gender'] != 'Unknown/Invalid']"
   ]
  },
  {
   "cell_type": "code",
   "execution_count": 20,
   "metadata": {},
   "outputs": [
    {
     "data": {
      "text/plain": [
       "4.0"
      ]
     },
     "execution_count": 20,
     "metadata": {},
     "output_type": "execute_result"
    }
   ],
   "source": [
    "round(sum(data.isna().sum())/data.shape[0] *100, 2)"
   ]
  },
  {
   "cell_type": "code",
   "execution_count": 21,
   "metadata": {},
   "outputs": [
    {
     "data": {
      "text/plain": [
       "<BarContainer object of 42 artists>"
      ]
     },
     "execution_count": 21,
     "metadata": {},
     "output_type": "execute_result"
    },
    {
     "data": {
      "image/png": "[encoded data removed]",
      "text/plain": [
       "<Figure size 720x576 with 1 Axes>"
      ]
     },
     "metadata": {
      "needs_background": "light"
     },
     "output_type": "display_data"
    }
   ],
   "source": [
    "plt.figure(figsize=(10,8))\n",
    "missing_data = pd.DataFrame({'column':data.columns ,'na_percent':data.isna().mean() *100})\n",
    "missing_data.sort_values('na_percent',inplace=True)\n",
    "plt.barh(y = missing_data['column'],width=missing_data['na_percent'])"
   ]
  },
  {
   "cell_type": "code",
   "execution_count": 22,
   "metadata": {},
   "outputs": [],
   "source": [
    "data.dropna(inplace=True)"
   ]
  },
  {
   "cell_type": "code",
   "execution_count": 23,
   "metadata": {},
   "outputs": [
    {
     "data": {
      "text/plain": [
       "(98052, 42)"
      ]
     },
     "execution_count": 23,
     "metadata": {},
     "output_type": "execute_result"
    }
   ],
   "source": [
    "data.shape"
   ]
  },
  {
   "cell_type": "code",
   "execution_count": 24,
   "metadata": {},
   "outputs": [
    {
     "name": "stdout",
     "output_type": "stream",
     "text": [
      "<class 'pandas.core.frame.DataFrame'>\n",
      "Int64Index: 98052 entries, 1 to 101765\n",
      "Data columns (total 42 columns):\n",
      " #   Column                    Non-Null Count  Dtype \n",
      "---  ------                    --------------  ----- \n",
      " 0   race                      98052 non-null  object\n",
      " 1   gender                    98052 non-null  object\n",
      " 2   age                       98052 non-null  object\n",
      " 3   time_in_hospital          98052 non-null  int64 \n",
      " 4   num_lab_procedures        98052 non-null  int64 \n",
      " 5   num_procedures            98052 non-null  int64 \n",
      " 6   num_medications           98052 non-null  int64 \n",
      " 7   number_outpatient         98052 non-null  int64 \n",
      " 8   number_emergency          98052 non-null  int64 \n",
      " 9   number_inpatient          98052 non-null  int64 \n",
      " 10  diag_1                    98052 non-null  object\n",
      " 11  diag_2                    98052 non-null  object\n",
      " 12  diag_3                    98052 non-null  object\n",
      " 13  number_diagnoses          98052 non-null  int64 \n",
      " 14  max_glu_serum             98052 non-null  object\n",
      " 15  A1Cresult                 98052 non-null  object\n",
      " 16  metformin                 98052 non-null  object\n",
      " 17  repaglinide               98052 non-null  object\n",
      " 18  nateglinide               98052 non-null  object\n",
      " 19  chlorpropamide            98052 non-null  object\n",
      " 20  glimepiride               98052 non-null  object\n",
      " 21  acetohexamide             98052 non-null  object\n",
      " 22  glipizide                 98052 non-null  object\n",
      " 23  glyburide                 98052 non-null  object\n",
      " 24  tolbutamide               98052 non-null  object\n",
      " 25  pioglitazone              98052 non-null  object\n",
      " 26  rosiglitazone             98052 non-null  object\n",
      " 27  acarbose                  98052 non-null  object\n",
      " 28  miglitol                  98052 non-null  object\n",
      " 29  troglitazone              98052 non-null  object\n",
      " 30  tolazamide                98052 non-null  object\n",
      " 31  examide                   98052 non-null  object\n",
      " 32  citoglipton               98052 non-null  object\n",
      " 33  insulin                   98052 non-null  object\n",
      " 34  glyburide-metformin       98052 non-null  object\n",
      " 35  glipizide-metformin       98052 non-null  object\n",
      " 36  glimepiride-pioglitazone  98052 non-null  object\n",
      " 37  metformin-rosiglitazone   98052 non-null  object\n",
      " 38  metformin-pioglitazone    98052 non-null  object\n",
      " 39  change                    98052 non-null  object\n",
      " 40  diabetesMed               98052 non-null  object\n",
      " 41  readmitted                98052 non-null  object\n",
      "dtypes: int64(8), object(34)\n",
      "memory usage: 32.2+ MB\n"
     ]
    }
   ],
   "source": [
    "data.info()"
   ]
  },
  {
   "cell_type": "markdown",
   "metadata": {},
   "source": [
    "### Label Encoding"
   ]
  },
  {
   "cell_type": "code",
   "execution_count": 25,
   "metadata": {},
   "outputs": [],
   "source": [
    "# Few of the variables in diag columns has E and V at the start\n",
    "diag_cols = ['diag_1','diag_2','diag_3']\n",
    "for col in diag_cols:\n",
    "    data[col] = data[col].str.replace('E','-')\n",
    "    data[col] = data[col].str.replace('V','-')\n",
    "    \n",
    "data[diag_cols] = data[diag_cols].astype(float)\n",
    "\n",
    "\n",
    "# diagnosis grouping\n",
    "for col in diag_cols:\n",
    "    data['temp']=np.nan\n",
    "    \n",
    "    condition = ((data[col] >=250) & (data[col] < 251))\n",
    "    data.loc[condition,'temp']='Diabetes'\n",
    "    \n",
    "    condition = (((data[col]>=390) & (data[col]<=458)) | (data[col]==785))\n",
    "    data.loc[condition,'temp']='Circulatory'\n",
    "    \n",
    "    condition = (((data[col]>=460) & (data[col]<=519)) | (data[col]==786))\n",
    "    data.loc[condition,'temp']='Respiratory'\n",
    "    \n",
    "    condition = (((data[col]>=520) & (data[col]<=579)) | (data[col]==787))\n",
    "    data.loc[condition,'temp']='Digestive'\n",
    "    \n",
    "    condition = (((data[col]>=580) & (data[col]<=629)) | (data[col]==788))\n",
    "    data.loc[condition,'temp']='Genitourinary'\n",
    "    \n",
    "    condition = ((data[col]>=800) & (data[col]<=999))\n",
    "    data.loc[condition,'temp']='Injury'\n",
    "    \n",
    "    condition = ((data[col]>=710) & (data[col]<=739))\n",
    "    data.loc[condition,'temp']='Muscoloskeletal'\n",
    "    \n",
    "    condition = ((data[col]>=140) & (data[col]<=239))\n",
    "    data.loc[condition,'temp']='Neoplasms'\n",
    "    \n",
    " \n",
    "    data['temp']=data['temp'].fillna('Others')\n",
    "    \n",
    "    data[col]=data['temp']\n",
    "data.drop('temp',axis=1,inplace=True)"
   ]
  },
  {
   "cell_type": "code",
   "execution_count": 26,
   "metadata": {},
   "outputs": [],
   "source": [
    "age_dict = {'[0-10)' : 1,\n",
    "            '[10-20)' : 1,\n",
    "            '[20-30)' : 2,\n",
    "            '[30-40)' : 2,\n",
    "            '[40-50)' : 3,\n",
    "            '[50-60)' : 3,\n",
    "            '[60-70)' : 4,\n",
    "            '[70-80)' : 4,\n",
    "            '[80-90)' : 5,\n",
    "            '[90-100)': 5}\n",
    "\n",
    "data['age'] = data['age'].replace(age_dict)\n"
   ]
  },
  {
   "cell_type": "code",
   "execution_count": 27,
   "metadata": {},
   "outputs": [
    {
     "name": "stdout",
     "output_type": "stream",
     "text": [
      "------------------------\n",
      "\n",
      "\n",
      "metformin\n",
      "No        78807\n",
      "Steady    17677\n",
      "Up         1017\n",
      "Down        551\n",
      "Name: metformin, dtype: int64\n",
      "------------------------\n",
      "\n",
      "\n",
      "repaglinide\n",
      "No        96529\n",
      "Steady     1371\n",
      "Up          107\n",
      "Down         45\n",
      "Name: repaglinide, dtype: int64\n",
      "------------------------\n",
      "\n",
      "\n",
      "nateglinide\n",
      "No        97361\n",
      "Steady      657\n",
      "Up           23\n",
      "Down         11\n",
      "Name: nateglinide, dtype: int64\n",
      "------------------------\n",
      "\n",
      "\n",
      "chlorpropamide\n",
      "No        97969\n",
      "Steady       76\n",
      "Up            6\n",
      "Down          1\n",
      "Name: chlorpropamide, dtype: int64\n",
      "------------------------\n",
      "\n",
      "\n",
      "glimepiride\n",
      "No        93065\n",
      "Steady     4488\n",
      "Up          315\n",
      "Down        184\n",
      "Name: glimepiride, dtype: int64\n",
      "------------------------\n",
      "\n",
      "\n",
      "acetohexamide\n",
      "No        98051\n",
      "Steady        1\n",
      "Name: acetohexamide, dtype: int64\n",
      "------------------------\n",
      "\n",
      "\n",
      "glipizide\n",
      "No        85769\n",
      "Steady    10990\n",
      "Up          752\n",
      "Down        541\n",
      "Name: glipizide, dtype: int64\n",
      "------------------------\n",
      "\n",
      "\n",
      "glyburide\n",
      "No        87791\n",
      "Steady     8932\n",
      "Up          791\n",
      "Down        538\n",
      "Name: glyburide, dtype: int64\n",
      "------------------------\n",
      "\n",
      "\n",
      "tolbutamide\n",
      "No        98030\n",
      "Steady       22\n",
      "Name: tolbutamide, dtype: int64\n",
      "------------------------\n",
      "\n",
      "\n",
      "pioglitazone\n",
      "No        90955\n",
      "Steady     6755\n",
      "Up          227\n",
      "Down        115\n",
      "Name: pioglitazone, dtype: int64\n",
      "------------------------\n",
      "\n",
      "\n",
      "rosiglitazone\n",
      "No        91886\n",
      "Steady     5908\n",
      "Up          174\n",
      "Down         84\n",
      "Name: rosiglitazone, dtype: int64\n",
      "------------------------\n",
      "\n",
      "\n",
      "acarbose\n",
      "No        97753\n",
      "Steady      286\n",
      "Up           10\n",
      "Down          3\n",
      "Name: acarbose, dtype: int64\n",
      "------------------------\n",
      "\n",
      "\n",
      "miglitol\n",
      "No        98015\n",
      "Steady       31\n",
      "Down          4\n",
      "Up            2\n",
      "Name: miglitol, dtype: int64\n",
      "------------------------\n",
      "\n",
      "\n",
      "troglitazone\n",
      "No        98049\n",
      "Steady        3\n",
      "Name: troglitazone, dtype: int64\n",
      "------------------------\n",
      "\n",
      "\n",
      "tolazamide\n",
      "No        98015\n",
      "Steady       36\n",
      "Up            1\n",
      "Name: tolazamide, dtype: int64\n",
      "------------------------\n",
      "\n",
      "\n",
      "examide\n",
      "No    98052\n",
      "Name: examide, dtype: int64\n",
      "------------------------\n",
      "\n",
      "\n",
      "citoglipton\n",
      "No    98052\n",
      "Name: citoglipton, dtype: int64\n",
      "------------------------\n",
      "\n",
      "\n",
      "insulin\n",
      "No        45942\n",
      "Steady    29368\n",
      "Down      11843\n",
      "Up        10899\n",
      "Name: insulin, dtype: int64\n",
      "------------------------\n",
      "\n",
      "\n",
      "glyburide-metformin\n",
      "No        97383\n",
      "Steady      660\n",
      "Up            6\n",
      "Down          3\n",
      "Name: glyburide-metformin, dtype: int64\n",
      "------------------------\n",
      "\n",
      "\n",
      "glipizide-metformin\n",
      "No        98039\n",
      "Steady       13\n",
      "Name: glipizide-metformin, dtype: int64\n",
      "------------------------\n",
      "\n",
      "\n",
      "glimepiride-pioglitazone\n",
      "No        98051\n",
      "Steady        1\n",
      "Name: glimepiride-pioglitazone, dtype: int64\n",
      "------------------------\n",
      "\n",
      "\n",
      "metformin-rosiglitazone\n",
      "No    98052\n",
      "Name: metformin-rosiglitazone, dtype: int64\n",
      "------------------------\n",
      "\n",
      "\n",
      "metformin-pioglitazone\n",
      "No        98051\n",
      "Steady        1\n",
      "Name: metformin-pioglitazone, dtype: int64\n"
     ]
    }
   ],
   "source": [
    "drug_cols = ['metformin',\n",
    "       'repaglinide', 'nateglinide', 'chlorpropamide', 'glimepiride',\n",
    "       'acetohexamide', 'glipizide', 'glyburide', 'tolbutamide',\n",
    "       'pioglitazone', 'rosiglitazone', 'acarbose', 'miglitol', 'troglitazone',\n",
    "       'tolazamide', 'examide', 'citoglipton', 'insulin',\n",
    "       'glyburide-metformin', 'glipizide-metformin',\n",
    "       'glimepiride-pioglitazone', 'metformin-rosiglitazone',\n",
    "       'metformin-pioglitazone']\n",
    "\n",
    "for x in drug_cols:\n",
    "    print('------------------------')\n",
    "    print('\\n')\n",
    "    print(x)\n",
    "    print(data[x].value_counts())"
   ]
  },
  {
   "cell_type": "code",
   "execution_count": 28,
   "metadata": {},
   "outputs": [],
   "source": [
    "# Removing those which has almost zero variance\n",
    "data.drop(['acetohexamide','tolbutamide','miglitol','troglitazone','tolazamide','examide','citoglipton', 'glipizide-metformin',\n",
    "          'glimepiride-pioglitazone','metformin-rosiglitazone','metformin-pioglitazone'], axis = 1, inplace = True)"
   ]
  },
  {
   "cell_type": "code",
   "execution_count": 29,
   "metadata": {},
   "outputs": [
    {
     "data": {
      "text/plain": [
       "race                   object\n",
       "gender                 object\n",
       "age                     int64\n",
       "time_in_hospital        int64\n",
       "num_lab_procedures      int64\n",
       "num_procedures          int64\n",
       "num_medications         int64\n",
       "number_outpatient       int64\n",
       "number_emergency        int64\n",
       "number_inpatient        int64\n",
       "diag_1                 object\n",
       "diag_2                 object\n",
       "diag_3                 object\n",
       "number_diagnoses        int64\n",
       "max_glu_serum          object\n",
       "A1Cresult              object\n",
       "metformin              object\n",
       "repaglinide            object\n",
       "nateglinide            object\n",
       "chlorpropamide         object\n",
       "glimepiride            object\n",
       "glipizide              object\n",
       "glyburide              object\n",
       "pioglitazone           object\n",
       "rosiglitazone          object\n",
       "acarbose               object\n",
       "insulin                object\n",
       "glyburide-metformin    object\n",
       "change                 object\n",
       "diabetesMed            object\n",
       "readmitted             object\n",
       "dtype: object"
      ]
     },
     "execution_count": 29,
     "metadata": {},
     "output_type": "execute_result"
    }
   ],
   "source": [
    "data.dtypes"
   ]
  },
  {
   "cell_type": "code",
   "execution_count": 30,
   "metadata": {},
   "outputs": [],
   "source": [
    "cat_cols = ['race', 'gender', 'age', 'diag_1', 'diag_2', 'diag_3','max_glu_serum', 'A1Cresult', 'metformin',\n",
    "       'repaglinide', 'nateglinide', 'chlorpropamide', 'glimepiride',\n",
    "       'glipizide', 'glyburide', 'pioglitazone', 'rosiglitazone', 'acarbose',\n",
    "       'insulin', 'glyburide-metformin', 'change', 'diabetesMed',\n",
    "       'readmitted']\n",
    "\n",
    "data[cat_cols] = data[cat_cols].astype('category')"
   ]
  },
  {
   "cell_type": "code",
   "execution_count": 31,
   "metadata": {
    "scrolled": true
   },
   "outputs": [
    {
     "data": {
      "text/plain": [
       "race                   category\n",
       "gender                 category\n",
       "age                    category\n",
       "time_in_hospital          int64\n",
       "num_lab_procedures        int64\n",
       "num_procedures            int64\n",
       "num_medications           int64\n",
       "number_outpatient         int64\n",
       "number_emergency          int64\n",
       "number_inpatient          int64\n",
       "diag_1                 category\n",
       "diag_2                 category\n",
       "diag_3                 category\n",
       "number_diagnoses          int64\n",
       "max_glu_serum          category\n",
       "A1Cresult              category\n",
       "metformin              category\n",
       "repaglinide            category\n",
       "nateglinide            category\n",
       "chlorpropamide         category\n",
       "glimepiride            category\n",
       "glipizide              category\n",
       "glyburide              category\n",
       "pioglitazone           category\n",
       "rosiglitazone          category\n",
       "acarbose               category\n",
       "insulin                category\n",
       "glyburide-metformin    category\n",
       "change                 category\n",
       "diabetesMed            category\n",
       "readmitted             category\n",
       "dtype: object"
      ]
     },
     "execution_count": 31,
     "metadata": {},
     "output_type": "execute_result"
    }
   ],
   "source": [
    "data.dtypes"
   ]
  },
  {
   "cell_type": "code",
   "execution_count": 32,
   "metadata": {},
   "outputs": [],
   "source": [
    "from scipy.stats import chi2_contingency\n",
    "from scipy.stats import chi2\n",
    "import statsmodels.api as sm"
   ]
  },
  {
   "cell_type": "code",
   "execution_count": 33,
   "metadata": {},
   "outputs": [
    {
     "data": {
      "text/plain": [
       "Index(['race', 'gender', 'age', 'diag_1', 'diag_2', 'diag_3', 'max_glu_serum',\n",
       "       'A1Cresult', 'metformin', 'repaglinide', 'nateglinide',\n",
       "       'chlorpropamide', 'glimepiride', 'glipizide', 'glyburide',\n",
       "       'pioglitazone', 'rosiglitazone', 'acarbose', 'insulin',\n",
       "       'glyburide-metformin', 'change', 'diabetesMed', 'readmitted'],\n",
       "      dtype='object')"
      ]
     },
     "execution_count": 33,
     "metadata": {},
     "output_type": "execute_result"
    }
   ],
   "source": [
    "cat_cols = data.select_dtypes('category').columns\n",
    "cat_cols"
   ]
  },
  {
   "cell_type": "markdown",
   "metadata": {},
   "source": [
    "### Checking the dependency of the target on the features"
   ]
  },
  {
   "cell_type": "code",
   "execution_count": 34,
   "metadata": {},
   "outputs": [],
   "source": [
    "def find_chi2_independence(cat_col, target, df, alpha=0.05):\n",
    "    data = df[[target, cat_col]]\n",
    "    tab = sm.stats.Table.from_data(data)\n",
    "    tab = tab.table_orig.to_numpy()\n",
    "    print(f\"---------------{target} Vs {cat_col} Chi Square Test of Independence -------------------\")\n",
    "    print(f\"\\n Contingency table :\\n\")\n",
    "    print(tab)\n",
    "    \n",
    "    stat, p, dof, expected = chi2_contingency(tab)\n",
    "    print(f\"\\n Expected table :\\n\")\n",
    "    print(expected)\n",
    "    \n",
    "    print(f\"The p value returned = {p} and degrees of freedom returned = {dof}\")\n",
    "    \n",
    "    # interpret p-value\n",
    "    print('significance(alpha) = %.3f' % (alpha))\n",
    "\n",
    "    if p <= alpha:\n",
    "        print('Dependent (reject H0)')\n",
    "    else:\n",
    "        print('Independent (fail to reject H0)') "
   ]
  },
  {
   "cell_type": "code",
   "execution_count": 35,
   "metadata": {},
   "outputs": [
    {
     "name": "stdout",
     "output_type": "stream",
     "text": [
      "---------------readmitted Vs race Chi Square Test of Independence -------------------\n",
      "\n",
      " Contingency table :\n",
      "\n",
      "[[ 2140    65  8512   207   142]\n",
      " [ 6543   159 26874   633   440]\n",
      " [10198   401 39693  1144   901]]\n",
      "\n",
      " Expected table :\n",
      "\n",
      "[[ 2130.88102231    70.53655203  8473.30206421   223.91123078\n",
      "    167.36913067]\n",
      " [ 6672.04920858   220.85857504 26530.9455289    701.09346061\n",
      "    524.05322686]\n",
      " [10078.0697691    333.60487292 40074.75240689  1058.99530861\n",
      "    791.57764248]]\n",
      "The p value returned = 3.2699985670374004e-16 and degrees of freedom returned = 8\n",
      "significance(alpha) = 0.050\n",
      "Dependent (reject H0)\n",
      "---------------readmitted Vs gender Chi Square Test of Independence -------------------\n",
      "\n",
      " Contingency table :\n",
      "\n",
      "[[ 6002  5064]\n",
      " [19060 15589]\n",
      " [27771 24566]]\n",
      "\n",
      " Expected table :\n",
      "\n",
      "[[ 5962.65224575  5103.34775425]\n",
      " [18669.79375229 15979.20624771]\n",
      " [28200.55400196 24136.44599804]]\n",
      "The p value returned = 9.05403281880493e-08 and degrees of freedom returned = 2\n",
      "significance(alpha) = 0.050\n",
      "Dependent (reject H0)\n",
      "---------------readmitted Vs age Chi Square Test of Independence -------------------\n",
      "\n",
      " Contingency table :\n",
      "\n",
      "[[   32   621  2638  5464  2311]\n",
      " [  177  1602  8993 16998  6879]\n",
      " [  322  2803 14331 24652 10229]]\n",
      "\n",
      " Expected table :\n",
      "\n",
      "[[   59.92785461   567.22673683  2930.03194223  5317.21458002\n",
      "   2191.59888631]\n",
      " [  187.64144536  1776.05631706  9174.28852038 16648.84944723\n",
      "   6862.16426998]\n",
      " [  283.43070004  2682.71694611 13857.67953739 25147.93597275\n",
      "  10365.23684372]]\n",
      "The p value returned = 3.437136903946944e-23 and degrees of freedom returned = 8\n",
      "significance(alpha) = 0.050\n",
      "Dependent (reject H0)\n",
      "---------------readmitted Vs diag_1 Chi Square Test of Independence -------------------\n",
      "\n",
      " Contingency table :\n",
      "\n",
      "[[ 3415  1075   993   547   830   459   339  2033  1375]\n",
      " [10612  3126  3292  1702  2192  1428   780  6130  5387]\n",
      " [15509  3764  4902  2734  3681  2852  2193  9471  7231]]\n",
      "\n",
      " Expected table :\n",
      "\n",
      "[[ 3333.38816138   898.91781912  1036.83088565   562.37382205\n",
      "    756.49041325   534.83635214   373.78729654  1990.1464937\n",
      "   1579.22875617]\n",
      " [10437.2461959   2814.62168033  3246.44436625  1760.86124709\n",
      "   2368.66404561  1674.6380594   1170.37376086  6231.39217966\n",
      "   4944.7584649 ]\n",
      " [15765.36564272  4251.46050055  4903.72474809  2659.76493085\n",
      "   3577.84554114  2529.52558846  1767.8389426   9412.46132664\n",
      "   7469.01277893]]\n",
      "The p value returned = 7.50612484653584e-110 and degrees of freedom returned = 16\n",
      "significance(alpha) = 0.050\n",
      "Dependent (reject H0)\n",
      "---------------readmitted Vs diag_2 Chi Square Test of Independence -------------------\n",
      "\n",
      " Contingency table :\n",
      "\n",
      "[[ 3475  1300   464   966   275   174   375  2914  1123]\n",
      " [11398  3969  1369  2988   656   585   715  8983  3986]\n",
      " [16179  6593  2216  4249  1397   951  1403 13821  5528]]\n",
      "\n",
      " Expected table :\n",
      "\n",
      "[[ 3504.481622    1338.72732836   456.96399869   925.77813813\n",
      "    262.73454901   192.98800636   281.35619875  2902.49447232\n",
      "   1200.47568637]\n",
      " [10972.96075552  4191.71906743  1430.81019255  2898.72462571\n",
      "    822.65402032   604.26906131   880.96068413  9088.06533268\n",
      "   3758.83626035]\n",
      " [16574.55762249  6331.55360421  2161.22580875  4378.49723616\n",
      "   1242.61143067   912.74293232  1330.68311712 13727.440195\n",
      "   5677.68805328]]\n",
      "The p value returned = 4.846645876066012e-36 and degrees of freedom returned = 16\n",
      "significance(alpha) = 0.050\n",
      "Dependent (reject H0)\n",
      "---------------readmitted Vs diag_3 Chi Square Test of Independence -------------------\n",
      "\n",
      " Contingency table :\n",
      "\n",
      "[[ 3206  1772   464   886   221   202   260  3183   872]\n",
      " [10771  5735  1399  2453   565   632   507  9913  2674]\n",
      " [15553  9188  1989  3188  1104  1028  1053 15581  3653]]\n",
      "\n",
      " Expected table :\n",
      "\n",
      "[[ 3332.71101048  1884.17237792   434.73087749   736.6273202\n",
      "    213.30253335   210.14249582   205.40243952  3236.44272427\n",
      "    812.46822094]\n",
      " [10435.12595358  5899.57425652  1361.1955697   2306.47027088\n",
      "    667.87633093   657.98186676   643.14017052 10133.69817036\n",
      "   2543.93741076]\n",
      " [15762.16303594  8911.25336556  2056.07355281  3483.90240893\n",
      "   1008.82113572   993.87563742   971.45738996 15306.85910537\n",
      "   3842.59436829]]\n",
      "The p value returned = 2.8872711924112223e-37 and degrees of freedom returned = 16\n",
      "significance(alpha) = 0.050\n",
      "Dependent (reject H0)\n",
      "---------------readmitted Vs max_glu_serum Chi Square Test of Independence -------------------\n",
      "\n",
      " Contingency table :\n",
      "\n",
      "[[  184   179 10413   290]\n",
      " [  519   509 32755   866]\n",
      " [  746   539 49676  1376]]\n",
      "\n",
      " Expected table :\n",
      "\n",
      "[[  163.53194223   138.47735895 10478.23301921   285.7576796 ]\n",
      " [  512.03852038   433.58955452 32808.62966589   894.74225921]\n",
      " [  773.42953739   654.93308653 49557.13731489  1351.50006119]]\n",
      "The p value returned = 2.5379025056434998e-09 and degrees of freedom returned = 6\n",
      "significance(alpha) = 0.050\n",
      "Dependent (reject H0)\n",
      "---------------readmitted Vs A1Cresult Chi Square Test of Independence -------------------\n",
      "\n",
      " Contingency table :\n",
      "\n",
      "[[  371   785  9436   474]\n",
      " [ 1279  2786 29018  1566]\n",
      " [ 2058  4060 43405  2814]]\n",
      "\n",
      " Expected table :\n",
      "\n",
      "[[  418.47925591   861.22308571  9238.48258067   547.81507771]\n",
      " [ 1310.30975401  2696.59485783 28926.81935096  1715.2760372 ]\n",
      " [ 1979.21099009  4073.18205646 43693.69806837  2590.90888508]]\n",
      "The p value returned = 1.2752611531707045e-12 and degrees of freedom returned = 6\n",
      "significance(alpha) = 0.050\n",
      "Dependent (reject H0)\n",
      "---------------readmitted Vs metformin Chi Square Test of Independence -------------------\n",
      "\n",
      " Contingency table :\n",
      "\n",
      "[[   67  9181  1733    85]\n",
      " [  185 28108  6017   339]\n",
      " [  299 41518  9927   593]]\n",
      "\n",
      " Expected table :\n",
      "\n",
      "[[   62.18502427  8894.03848978  1994.99940848   114.77707747]\n",
      " [  194.70891976 27848.32275731  6246.58724962   359.38107331]\n",
      " [  294.10605597 42064.63875291  9435.4133419    542.84184922]]\n",
      "The p value returned = 1.1108821311257098e-19 and degrees of freedom returned = 6\n",
      "significance(alpha) = 0.050\n",
      "Dependent (reject H0)\n",
      "---------------readmitted Vs repaglinide Chi Square Test of Independence -------------------\n",
      "\n",
      " Contingency table :\n",
      "\n",
      "[[    3 10862   181    20]\n",
      " [   19 34012   585    33]\n",
      " [   23 51655   605    54]]\n",
      "\n",
      " Expected table :\n",
      "\n",
      "[[5.07863175e+00 1.08941165e+04 1.54728981e+02 1.20758577e+01]\n",
      " [1.59018174e+01 3.41108118e+04 4.84475370e+02 3.78109880e+01]\n",
      " [2.40195509e+01 5.15240716e+04 7.31795649e+02 5.71131542e+01]]\n",
      "The p value returned = 3.7065065714243887e-10 and degrees of freedom returned = 6\n",
      "significance(alpha) = 0.050\n",
      "Dependent (reject H0)\n",
      "---------------readmitted Vs nateglinide Chi Square Test of Independence -------------------\n",
      "\n",
      " Contingency table :\n",
      "\n",
      "[[    1 10986    78     1]\n",
      " [    4 34389   246    10]\n",
      " [    6 51986   333    12]]\n",
      "\n",
      " Expected table :\n",
      "\n",
      "[[1.24144332e+00 1.09880148e+04 7.41480235e+01 2.59574511e+00]\n",
      " [3.88711092e+00 3.44048188e+04 2.32166534e+02 8.12759556e+00]\n",
      " [5.87144576e+00 5.19681665e+04 3.50685442e+02 1.22766593e+01]]\n",
      "The p value returned = 0.7570043873321077 and degrees of freedom returned = 6\n",
      "significance(alpha) = 0.050\n",
      "Independent (fail to reject H0)\n",
      "---------------readmitted Vs chlorpropamide Chi Square Test of Independence -------------------\n",
      "\n",
      " Contingency table :\n",
      "\n",
      "[[    0 11061     5     0]\n",
      " [    0 34616    28     5]\n",
      " [    1 52292    43     1]]\n",
      "\n",
      " Expected table :\n",
      "\n",
      "[[1.12858483e-01 1.10566327e+04 8.57724473e+00 6.77150900e-01]\n",
      " [3.53373720e-01 3.46196700e+04 2.68564027e+01 2.12024232e+00]\n",
      " [5.33767797e-01 5.22926973e+04 4.05663525e+01 3.20260678e+00]]\n",
      "The p value returned = 0.1932775968054067 and degrees of freedom returned = 6\n",
      "significance(alpha) = 0.050\n",
      "Independent (fail to reject H0)\n",
      "---------------readmitted Vs glimepiride Chi Square Test of Independence -------------------\n",
      "\n",
      " Contingency table :\n",
      "\n",
      "[[   24 10556   451    35]\n",
      " [   65 32787  1696   101]\n",
      " [   95 49722  2341   179]]\n",
      "\n",
      " Expected table :\n",
      "\n",
      "[[2.07659609e+01 1.05031747e+04 5.06508873e+02 3.55504222e+01]\n",
      " [6.50207645e+01 3.28867253e+04 1.58594126e+03 1.11312722e+02]\n",
      " [9.82132746e+01 4.96751000e+04 2.39554987e+03 1.68136856e+02]]\n",
      "The p value returned = 0.0066178676049912216 and degrees of freedom returned = 6\n",
      "significance(alpha) = 0.050\n",
      "Dependent (reject H0)\n",
      "---------------readmitted Vs glipizide Chi Square Test of Independence -------------------\n",
      "\n",
      " Contingency table :\n",
      "\n",
      "[[   84  9643  1240    99]\n",
      " [  205 30035  4131   278]\n",
      " [  252 46091  5619   375]]\n",
      "\n",
      " Expected table :\n",
      "\n",
      "[[   61.05643944  9679.75925019  1240.31473096    84.86957941]\n",
      " [  191.17518256 30308.51059642  3883.57718354   265.73703749]\n",
      " [  288.768378   45780.73015339  5866.10808551   401.3933831 ]]\n",
      "The p value returned = 5.060355898111835e-09 and degrees of freedom returned = 6\n",
      "significance(alpha) = 0.050\n",
      "Dependent (reject H0)\n",
      "---------------readmitted Vs glyburide Chi Square Test of Independence -------------------\n",
      "\n",
      " Contingency table :\n",
      "\n",
      "[[   51  9964   966    85]\n",
      " [  214 31022  3142   271]\n",
      " [  273 46805  4824   435]]\n",
      "\n",
      " Expected table :\n",
      "\n",
      "[[   60.71786399  9907.95910333  1008.05197242    89.27106025]\n",
      " [  190.1150614  31023.03225839  3156.33406764   279.51861257]\n",
      " [  287.16707461 46860.00863827  4767.61395994   422.21032717]]\n",
      "The p value returned = 0.1750343160047786 and degrees of freedom returned = 6\n",
      "significance(alpha) = 0.050\n",
      "Independent (fail to reject H0)\n",
      "---------------readmitted Vs pioglitazone Chi Square Test of Independence -------------------\n",
      "\n",
      " Contingency table :\n",
      "\n",
      "[[   17 10314   707    28]\n",
      " [   44 31941  2574    90]\n",
      " [   54 48700  3474   109]]\n",
      "\n",
      " Expected table :\n",
      "\n",
      "[[1.29787256e+01 1.02650433e+04 7.62359054e+02 2.56188757e+01]\n",
      " [4.06379778e+01 3.21411067e+04 2.38703948e+03 8.02158345e+01]\n",
      " [6.13832966e+01 4.85488499e+04 3.60560147e+03 1.21165290e+02]]\n",
      "The p value returned = 3.206490536640204e-05 and degrees of freedom returned = 6\n",
      "significance(alpha) = 0.050\n",
      "Dependent (reject H0)\n",
      "---------------readmitted Vs rosiglitazone Chi Square Test of Independence -------------------\n",
      "\n",
      " Contingency table :\n",
      "\n",
      "[[    5 10420   623    18]\n",
      " [   22 32284  2291    52]\n",
      " [   57 49182  2994   104]]\n",
      "\n",
      " Expected table :\n",
      "\n",
      "[[9.48011259e+00 1.03701146e+04 6.66767919e+02 1.96373761e+01]\n",
      " [2.96833925e+01 3.24700976e+04 2.08773194e+03 6.14870273e+01]\n",
      " [4.48364949e+01 4.90457878e+04 3.15350014e+03 9.28755966e+01]]\n",
      "The p value returned = 1.3044129760702972e-07 and degrees of freedom returned = 6\n",
      "significance(alpha) = 0.050\n",
      "Dependent (reject H0)\n"
     ]
    },
    {
     "name": "stdout",
     "output_type": "stream",
     "text": [
      "---------------readmitted Vs acarbose Chi Square Test of Independence -------------------\n",
      "\n",
      " Contingency table :\n",
      "\n",
      "[[    1 11039    24     2]\n",
      " [    1 34497   147     4]\n",
      " [    1 52217   115     4]]\n",
      "\n",
      " Expected table :\n",
      "\n",
      "[[3.38575450e-01 1.10322553e+04 3.22775262e+01 1.12858483e+00]\n",
      " [1.06012116e+00 3.45433413e+04 1.01064884e+02 3.53373720e+00]\n",
      " [1.60130339e+00 5.21774034e+04 1.52657590e+02 5.33767797e+00]]\n",
      "The p value returned = 4.353097168154253e-06 and degrees of freedom returned = 6\n",
      "significance(alpha) = 0.050\n",
      "Dependent (reject H0)\n",
      "---------------readmitted Vs insulin Chi Square Test of Independence -------------------\n",
      "\n",
      " Contingency table :\n",
      "\n",
      "[[ 1661  4658  3313  1434]\n",
      " [ 4632 15640 10155  4222]\n",
      " [ 5550 25644 15900  5243]]\n",
      "\n",
      " Expected table :\n",
      "\n",
      "[[ 1336.58301717  5184.94443765  3314.4279362   1230.04460898]\n",
      " [ 4185.00496675 16234.69544731 10377.87941092  3851.42017501]\n",
      " [ 6321.41201607 24522.36011504 15675.69265288  5817.53521601]]\n",
      "The p value returned = 8.213406350204559e-101 and degrees of freedom returned = 6\n",
      "significance(alpha) = 0.050\n",
      "Dependent (reject H0)\n",
      "---------------readmitted Vs glyburide-metformin Chi Square Test of Independence -------------------\n",
      "\n",
      " Contingency table :\n",
      "\n",
      "[[    0 10995    71     0]\n",
      " [    0 34396   252     1]\n",
      " [    3 51992   337     5]]\n",
      "\n",
      " Expected table :\n",
      "\n",
      "[[3.38575450e-01 1.09904977e+04 7.44865989e+01 6.77150900e-01]\n",
      " [1.06012116e+00 3.44125930e+04 2.33226655e+02 2.12024232e+00]\n",
      " [1.60130339e+00 5.19799093e+04 3.52286746e+02 3.20260678e+00]]\n",
      "The p value returned = 0.29847245132829386 and degrees of freedom returned = 6\n",
      "significance(alpha) = 0.050\n",
      "Independent (fail to reject H0)\n",
      "---------------readmitted Vs change Chi Square Test of Independence -------------------\n",
      "\n",
      " Contingency table :\n",
      "\n",
      "[[ 5412  5654]\n",
      " [16798 17851]\n",
      " [23068 29269]]\n",
      "\n",
      " Expected table :\n",
      "\n",
      "[[ 5110.00640476  5955.99359524]\n",
      " [16000.05529719 18648.94470281]\n",
      " [24167.93829805 28169.06170195]]\n",
      "The p value returned = 3.525759205869931e-44 and degrees of freedom returned = 2\n",
      "significance(alpha) = 0.050\n",
      "Dependent (reject H0)\n",
      "---------------readmitted Vs diabetesMed Chi Square Test of Independence -------------------\n",
      "\n",
      " Contingency table :\n",
      "\n",
      "[[ 2208  8858]\n",
      " [ 7092 27557]\n",
      " [13402 38935]]\n",
      "\n",
      " Expected table :\n",
      "\n",
      "[[ 2562.11328683  8503.88671317]\n",
      " [ 8022.29019296 26626.70980704]\n",
      " [12117.59652021 40219.40347979]]\n",
      "The p value returned = 1.6497385027265532e-83 and degrees of freedom returned = 2\n",
      "significance(alpha) = 0.050\n",
      "Dependent (reject H0)\n",
      "---------------readmitted Vs readmitted Chi Square Test of Independence -------------------\n",
      "\n",
      " Contingency table :\n",
      "\n",
      "[[11066     0     0]\n",
      " [    0 34649     0]\n",
      " [    0     0 52337]]\n",
      "\n",
      " Expected table :\n",
      "\n",
      "[[ 1248.89197569  3910.43358626  5906.67443805]\n",
      " [ 3910.43358626 12244.0460266  18494.52038714]\n",
      " [ 5906.67443805 18494.52038714 27935.80517481]]\n",
      "The p value returned = 0.0 and degrees of freedom returned = 4\n",
      "significance(alpha) = 0.050\n",
      "Dependent (reject H0)\n"
     ]
    }
   ],
   "source": [
    "for col in cat_cols:\n",
    "    find_chi2_independence(col, 'readmitted', data)"
   ]
  },
  {
   "cell_type": "code",
   "execution_count": 36,
   "metadata": {},
   "outputs": [],
   "source": [
    "data.drop(['nateglinide', 'chlorpropamide', 'glyburide', 'glyburide-metformin'], axis = 1, inplace = True)"
   ]
  },
  {
   "cell_type": "code",
   "execution_count": 37,
   "metadata": {},
   "outputs": [
    {
     "data": {
      "text/plain": [
       "(98052, 27)"
      ]
     },
     "execution_count": 37,
     "metadata": {},
     "output_type": "execute_result"
    }
   ],
   "source": [
    "data.shape"
   ]
  },
  {
   "cell_type": "code",
   "execution_count": 38,
   "metadata": {},
   "outputs": [
    {
     "data": {
      "text/plain": [
       "Index(['race', 'gender', 'age', 'time_in_hospital', 'num_lab_procedures',\n",
       "       'num_procedures', 'num_medications', 'number_outpatient',\n",
       "       'number_emergency', 'number_inpatient', 'diag_1', 'diag_2', 'diag_3',\n",
       "       'number_diagnoses', 'max_glu_serum', 'A1Cresult', 'metformin',\n",
       "       'repaglinide', 'glimepiride', 'glipizide', 'pioglitazone',\n",
       "       'rosiglitazone', 'acarbose', 'insulin', 'change', 'diabetesMed',\n",
       "       'readmitted'],\n",
       "      dtype='object')"
      ]
     },
     "execution_count": 38,
     "metadata": {},
     "output_type": "execute_result"
    }
   ],
   "source": [
    "data.columns"
   ]
  },
  {
   "cell_type": "code",
   "execution_count": 39,
   "metadata": {},
   "outputs": [],
   "source": [
    "import statsmodels.discrete.discrete_model as lgm"
   ]
  },
  {
   "cell_type": "code",
   "execution_count": 40,
   "metadata": {},
   "outputs": [],
   "source": [
    "readmit_dict = {'NO' : 0,\n",
    "                '>30' : 0,\n",
    "                '<30' : 1}\n",
    "\n",
    "data['readmitted'] = data['readmitted'].replace(readmit_dict)\n"
   ]
  },
  {
   "cell_type": "code",
   "execution_count": 41,
   "metadata": {},
   "outputs": [],
   "source": [
    "#data['readmitted'] = data['readmitted'].astype('category')"
   ]
  },
  {
   "cell_type": "code",
   "execution_count": 42,
   "metadata": {},
   "outputs": [
    {
     "name": "stdout",
     "output_type": "stream",
     "text": [
      "['time_in_hospital', 'num_lab_procedures', 'num_procedures', 'num_medications', 'number_outpatient', 'number_emergency', 'number_inpatient', 'number_diagnoses', 'readmitted']\n"
     ]
    }
   ],
   "source": [
    "num_cols = list(data.select_dtypes('int64').columns)\n",
    "print(num_cols)"
   ]
  },
  {
   "cell_type": "markdown",
   "metadata": {},
   "source": [
    "* This shows that all the numerical variables are individually significant"
   ]
  },
  {
   "cell_type": "code",
   "execution_count": 43,
   "metadata": {},
   "outputs": [
    {
     "data": {
      "text/html": [
       "<div>\n",
       "<style scoped>\n",
       "    .dataframe tbody tr th:only-of-type {\n",
       "        vertical-align: middle;\n",
       "    }\n",
       "\n",
       "    .dataframe tbody tr th {\n",
       "        vertical-align: top;\n",
       "    }\n",
       "\n",
       "    .dataframe thead th {\n",
       "        text-align: right;\n",
       "    }\n",
       "</style>\n",
       "<table border=\"1\" class=\"dataframe\">\n",
       "  <thead>\n",
       "    <tr style=\"text-align: right;\">\n",
       "      <th></th>\n",
       "      <th>VIF Factor</th>\n",
       "      <th>features</th>\n",
       "    </tr>\n",
       "  </thead>\n",
       "  <tbody>\n",
       "    <tr>\n",
       "      <th>0</th>\n",
       "      <td>4.341176</td>\n",
       "      <td>time_in_hospital</td>\n",
       "    </tr>\n",
       "    <tr>\n",
       "      <th>1</th>\n",
       "      <td>6.024442</td>\n",
       "      <td>num_lab_procedures</td>\n",
       "    </tr>\n",
       "    <tr>\n",
       "      <th>2</th>\n",
       "      <td>1.928965</td>\n",
       "      <td>num_procedures</td>\n",
       "    </tr>\n",
       "    <tr>\n",
       "      <th>3</th>\n",
       "      <td>7.424207</td>\n",
       "      <td>num_medications</td>\n",
       "    </tr>\n",
       "    <tr>\n",
       "      <th>4</th>\n",
       "      <td>1.114402</td>\n",
       "      <td>number_outpatient</td>\n",
       "    </tr>\n",
       "    <tr>\n",
       "      <th>5</th>\n",
       "      <td>1.134192</td>\n",
       "      <td>number_emergency</td>\n",
       "    </tr>\n",
       "    <tr>\n",
       "      <th>6</th>\n",
       "      <td>1.421691</td>\n",
       "      <td>number_inpatient</td>\n",
       "    </tr>\n",
       "    <tr>\n",
       "      <th>7</th>\n",
       "      <td>7.684591</td>\n",
       "      <td>number_diagnoses</td>\n",
       "    </tr>\n",
       "    <tr>\n",
       "      <th>8</th>\n",
       "      <td>1.159935</td>\n",
       "      <td>readmitted</td>\n",
       "    </tr>\n",
       "  </tbody>\n",
       "</table>\n",
       "</div>"
      ],
      "text/plain": [
       "   VIF Factor            features\n",
       "0    4.341176    time_in_hospital\n",
       "1    6.024442  num_lab_procedures\n",
       "2    1.928965      num_procedures\n",
       "3    7.424207     num_medications\n",
       "4    1.114402   number_outpatient\n",
       "5    1.134192    number_emergency\n",
       "6    1.421691    number_inpatient\n",
       "7    7.684591    number_diagnoses\n",
       "8    1.159935          readmitted"
      ]
     },
     "execution_count": 43,
     "metadata": {},
     "output_type": "execute_result"
    }
   ],
   "source": [
    "from statsmodels.stats.outliers_influence import variance_inflation_factor\n",
    "\n",
    "vif = pd.DataFrame()\n",
    "vif[\"VIF Factor\"] = [variance_inflation_factor(data[num_cols].values, i) for i in range(data[num_cols].shape[1])]\n",
    "vif[\"features\"] = data[num_cols].columns\n",
    "vif"
   ]
  },
  {
   "cell_type": "code",
   "execution_count": 44,
   "metadata": {},
   "outputs": [],
   "source": [
    "max_glu_dict = {'None' : 0,\n",
    "               'Norm' : 1,\n",
    "               '>200' : -1,\n",
    "                '>300' :-2\n",
    "               }\n",
    "data['max_glu_serum'] = data['max_glu_serum'].replace(max_glu_dict)"
   ]
  },
  {
   "cell_type": "code",
   "execution_count": 45,
   "metadata": {},
   "outputs": [],
   "source": [
    "A1C_dict = {'None' : 0,\n",
    "            'Norm' : 1,\n",
    "            '>7' : -1,\n",
    "            '>8' : -2\n",
    "           }\n",
    "data['A1Cresult'] = data['A1Cresult'].replace(A1C_dict)"
   ]
  },
  {
   "cell_type": "code",
   "execution_count": 46,
   "metadata": {},
   "outputs": [],
   "source": [
    "drug_new_cols = ['metformin',\n",
    "       'repaglinide', 'glimepiride',\n",
    "       'glipizide',  'pioglitazone', 'rosiglitazone', 'acarbose',\n",
    "       'insulin']\n",
    "\n",
    "drug_dict = { 'No': 0,\n",
    "             'Steady' : 1,\n",
    "             'Down' : -1,\n",
    "             'Up' : 2}\n",
    "\n",
    "data[drug_new_cols] = data[drug_new_cols].replace(drug_dict)"
   ]
  },
  {
   "cell_type": "code",
   "execution_count": 47,
   "metadata": {},
   "outputs": [],
   "source": [
    "change_dict = {'No' : 0,\n",
    "               'Ch' : 1}\n",
    "\n",
    "data['change'] = data['change'].replace(change_dict)"
   ]
  },
  {
   "cell_type": "code",
   "execution_count": 48,
   "metadata": {},
   "outputs": [],
   "source": [
    "diabet_dict = {'No' : 0,\n",
    "               'Yes' : 1\n",
    "              }\n",
    "\n",
    "data['diabetesMed'] = data['diabetesMed'].replace(diabet_dict)"
   ]
  },
  {
   "cell_type": "code",
   "execution_count": 49,
   "metadata": {},
   "outputs": [
    {
     "data": {
      "text/plain": [
       "['Caucasian', 'AfricanAmerican', 'Other', 'Asian', 'Hispanic']\n",
       "Categories (5, object): ['Caucasian', 'AfricanAmerican', 'Other', 'Asian', 'Hispanic']"
      ]
     },
     "execution_count": 49,
     "metadata": {},
     "output_type": "execute_result"
    }
   ],
   "source": [
    "data['race'].unique()"
   ]
  },
  {
   "cell_type": "code",
   "execution_count": 50,
   "metadata": {},
   "outputs": [],
   "source": [
    "race_dict = { 'Caucasian': 0,\n",
    "                'AfricanAmerican' : 1,\n",
    "                'Asian' : 2,\n",
    "                'Hispanic' : 3,\n",
    "                 'Other' : 4\n",
    "            }\n",
    "\n",
    "data['race'] = data['race'].replace(race_dict)"
   ]
  },
  {
   "cell_type": "code",
   "execution_count": 51,
   "metadata": {},
   "outputs": [],
   "source": [
    "gender_dict = { 'Female' : 0,\n",
    "               'Male': 1}\n",
    "\n",
    "data['gender'] = data['gender'].replace(gender_dict)"
   ]
  },
  {
   "cell_type": "code",
   "execution_count": 52,
   "metadata": {},
   "outputs": [
    {
     "data": {
      "text/plain": [
       "Circulatory        29536\n",
       "Others             17634\n",
       "Respiratory        13993\n",
       "Digestive           9187\n",
       "Diabetes            7965\n",
       "Injury              6703\n",
       "Genitourinary       4983\n",
       "Muscoloskeletal     4739\n",
       "Neoplasms           3312\n",
       "Name: diag_1, dtype: int64"
      ]
     },
     "execution_count": 52,
     "metadata": {},
     "output_type": "execute_result"
    }
   ],
   "source": [
    "data.diag_1.value_counts()"
   ]
  },
  {
   "cell_type": "code",
   "execution_count": 53,
   "metadata": {},
   "outputs": [],
   "source": [
    "diag_dict = {'Circulatory' :0,\n",
    "             'Respiratory' : 1,\n",
    "             'Digestive' : 2,\n",
    "             'Diabetes' : 3,\n",
    "             'Injury' : 4,\n",
    "             'Genitourinary' : 5,\n",
    "             'Muscoloskeletal' : 6,\n",
    "             'Neoplasms' : 7,\n",
    "             'Others' : 8}\n",
    "\n",
    "data[['diag_1', 'diag_2', 'diag_3']] = data[['diag_1', 'diag_2', 'diag_3']].replace(diag_dict)"
   ]
  },
  {
   "cell_type": "code",
   "execution_count": 54,
   "metadata": {},
   "outputs": [
    {
     "data": {
      "text/html": [
       "<div>\n",
       "<style scoped>\n",
       "    .dataframe tbody tr th:only-of-type {\n",
       "        vertical-align: middle;\n",
       "    }\n",
       "\n",
       "    .dataframe tbody tr th {\n",
       "        vertical-align: top;\n",
       "    }\n",
       "\n",
       "    .dataframe thead th {\n",
       "        text-align: right;\n",
       "    }\n",
       "</style>\n",
       "<table border=\"1\" class=\"dataframe\">\n",
       "  <thead>\n",
       "    <tr style=\"text-align: right;\">\n",
       "      <th></th>\n",
       "      <th>race</th>\n",
       "      <th>gender</th>\n",
       "      <th>age</th>\n",
       "      <th>time_in_hospital</th>\n",
       "      <th>num_lab_procedures</th>\n",
       "      <th>num_procedures</th>\n",
       "      <th>num_medications</th>\n",
       "      <th>number_outpatient</th>\n",
       "      <th>number_emergency</th>\n",
       "      <th>number_inpatient</th>\n",
       "      <th>diag_1</th>\n",
       "      <th>diag_2</th>\n",
       "      <th>diag_3</th>\n",
       "      <th>number_diagnoses</th>\n",
       "      <th>max_glu_serum</th>\n",
       "      <th>A1Cresult</th>\n",
       "      <th>metformin</th>\n",
       "      <th>repaglinide</th>\n",
       "      <th>glimepiride</th>\n",
       "      <th>glipizide</th>\n",
       "      <th>pioglitazone</th>\n",
       "      <th>rosiglitazone</th>\n",
       "      <th>acarbose</th>\n",
       "      <th>insulin</th>\n",
       "      <th>change</th>\n",
       "      <th>diabetesMed</th>\n",
       "      <th>readmitted</th>\n",
       "    </tr>\n",
       "  </thead>\n",
       "  <tbody>\n",
       "    <tr>\n",
       "      <th>1</th>\n",
       "      <td>0</td>\n",
       "      <td>0</td>\n",
       "      <td>1</td>\n",
       "      <td>3</td>\n",
       "      <td>59</td>\n",
       "      <td>0</td>\n",
       "      <td>18</td>\n",
       "      <td>0</td>\n",
       "      <td>0</td>\n",
       "      <td>0</td>\n",
       "      <td>8</td>\n",
       "      <td>3</td>\n",
       "      <td>8</td>\n",
       "      <td>9</td>\n",
       "      <td>0</td>\n",
       "      <td>0</td>\n",
       "      <td>0</td>\n",
       "      <td>0</td>\n",
       "      <td>0</td>\n",
       "      <td>0</td>\n",
       "      <td>0</td>\n",
       "      <td>0</td>\n",
       "      <td>0</td>\n",
       "      <td>2</td>\n",
       "      <td>1</td>\n",
       "      <td>1</td>\n",
       "      <td>0</td>\n",
       "    </tr>\n",
       "    <tr>\n",
       "      <th>2</th>\n",
       "      <td>1</td>\n",
       "      <td>0</td>\n",
       "      <td>2</td>\n",
       "      <td>2</td>\n",
       "      <td>11</td>\n",
       "      <td>5</td>\n",
       "      <td>13</td>\n",
       "      <td>2</td>\n",
       "      <td>0</td>\n",
       "      <td>1</td>\n",
       "      <td>8</td>\n",
       "      <td>3</td>\n",
       "      <td>8</td>\n",
       "      <td>6</td>\n",
       "      <td>0</td>\n",
       "      <td>0</td>\n",
       "      <td>0</td>\n",
       "      <td>0</td>\n",
       "      <td>0</td>\n",
       "      <td>1</td>\n",
       "      <td>0</td>\n",
       "      <td>0</td>\n",
       "      <td>0</td>\n",
       "      <td>0</td>\n",
       "      <td>0</td>\n",
       "      <td>1</td>\n",
       "      <td>0</td>\n",
       "    </tr>\n",
       "    <tr>\n",
       "      <th>3</th>\n",
       "      <td>0</td>\n",
       "      <td>1</td>\n",
       "      <td>2</td>\n",
       "      <td>2</td>\n",
       "      <td>44</td>\n",
       "      <td>1</td>\n",
       "      <td>16</td>\n",
       "      <td>0</td>\n",
       "      <td>0</td>\n",
       "      <td>0</td>\n",
       "      <td>8</td>\n",
       "      <td>3</td>\n",
       "      <td>0</td>\n",
       "      <td>7</td>\n",
       "      <td>0</td>\n",
       "      <td>0</td>\n",
       "      <td>0</td>\n",
       "      <td>0</td>\n",
       "      <td>0</td>\n",
       "      <td>0</td>\n",
       "      <td>0</td>\n",
       "      <td>0</td>\n",
       "      <td>0</td>\n",
       "      <td>2</td>\n",
       "      <td>1</td>\n",
       "      <td>1</td>\n",
       "      <td>0</td>\n",
       "    </tr>\n",
       "    <tr>\n",
       "      <th>4</th>\n",
       "      <td>0</td>\n",
       "      <td>1</td>\n",
       "      <td>3</td>\n",
       "      <td>1</td>\n",
       "      <td>51</td>\n",
       "      <td>0</td>\n",
       "      <td>8</td>\n",
       "      <td>0</td>\n",
       "      <td>0</td>\n",
       "      <td>0</td>\n",
       "      <td>7</td>\n",
       "      <td>7</td>\n",
       "      <td>3</td>\n",
       "      <td>5</td>\n",
       "      <td>0</td>\n",
       "      <td>0</td>\n",
       "      <td>0</td>\n",
       "      <td>0</td>\n",
       "      <td>0</td>\n",
       "      <td>1</td>\n",
       "      <td>0</td>\n",
       "      <td>0</td>\n",
       "      <td>0</td>\n",
       "      <td>1</td>\n",
       "      <td>1</td>\n",
       "      <td>1</td>\n",
       "      <td>0</td>\n",
       "    </tr>\n",
       "    <tr>\n",
       "      <th>5</th>\n",
       "      <td>0</td>\n",
       "      <td>1</td>\n",
       "      <td>3</td>\n",
       "      <td>3</td>\n",
       "      <td>31</td>\n",
       "      <td>6</td>\n",
       "      <td>16</td>\n",
       "      <td>0</td>\n",
       "      <td>0</td>\n",
       "      <td>0</td>\n",
       "      <td>0</td>\n",
       "      <td>0</td>\n",
       "      <td>3</td>\n",
       "      <td>9</td>\n",
       "      <td>0</td>\n",
       "      <td>0</td>\n",
       "      <td>0</td>\n",
       "      <td>0</td>\n",
       "      <td>0</td>\n",
       "      <td>0</td>\n",
       "      <td>0</td>\n",
       "      <td>0</td>\n",
       "      <td>0</td>\n",
       "      <td>1</td>\n",
       "      <td>0</td>\n",
       "      <td>1</td>\n",
       "      <td>0</td>\n",
       "    </tr>\n",
       "  </tbody>\n",
       "</table>\n",
       "</div>"
      ],
      "text/plain": [
       "   race  gender age  time_in_hospital  num_lab_procedures  num_procedures  \\\n",
       "1     0       0   1                 3                  59               0   \n",
       "2     1       0   2                 2                  11               5   \n",
       "3     0       1   2                 2                  44               1   \n",
       "4     0       1   3                 1                  51               0   \n",
       "5     0       1   3                 3                  31               6   \n",
       "\n",
       "   num_medications  number_outpatient  number_emergency  number_inpatient  \\\n",
       "1               18                  0                 0                 0   \n",
       "2               13                  2                 0                 1   \n",
       "3               16                  0                 0                 0   \n",
       "4                8                  0                 0                 0   \n",
       "5               16                  0                 0                 0   \n",
       "\n",
       "   diag_1  diag_2  diag_3  number_diagnoses  max_glu_serum  A1Cresult  \\\n",
       "1       8       3       8                 9              0          0   \n",
       "2       8       3       8                 6              0          0   \n",
       "3       8       3       0                 7              0          0   \n",
       "4       7       7       3                 5              0          0   \n",
       "5       0       0       3                 9              0          0   \n",
       "\n",
       "   metformin  repaglinide  glimepiride  glipizide  pioglitazone  \\\n",
       "1          0            0            0          0             0   \n",
       "2          0            0            0          1             0   \n",
       "3          0            0            0          0             0   \n",
       "4          0            0            0          1             0   \n",
       "5          0            0            0          0             0   \n",
       "\n",
       "   rosiglitazone  acarbose  insulin  change  diabetesMed  readmitted  \n",
       "1              0         0        2       1            1           0  \n",
       "2              0         0        0       0            1           0  \n",
       "3              0         0        2       1            1           0  \n",
       "4              0         0        1       1            1           0  \n",
       "5              0         0        1       0            1           0  "
      ]
     },
     "execution_count": 54,
     "metadata": {},
     "output_type": "execute_result"
    }
   ],
   "source": [
    "pd.set_option('max_columns',None)\n",
    "data.head()"
   ]
  },
  {
   "cell_type": "code",
   "execution_count": 55,
   "metadata": {},
   "outputs": [],
   "source": [
    "cat_cols = ['race', 'gender', 'age', 'diag_1', 'diag_2', 'diag_3','max_glu_serum', 'A1Cresult', 'metformin',\n",
    "       'repaglinide', 'glimepiride',\n",
    "       'glipizide', 'pioglitazone', 'rosiglitazone', 'acarbose',\n",
    "       'insulin', 'change', 'diabetesMed',\n",
    "       'readmitted']\n",
    "\n",
    "data[cat_cols] = data[cat_cols].astype('category')"
   ]
  },
  {
   "cell_type": "code",
   "execution_count": 56,
   "metadata": {
    "scrolled": true
   },
   "outputs": [
    {
     "data": {
      "text/plain": [
       "race                  category\n",
       "gender                category\n",
       "age                   category\n",
       "time_in_hospital         int64\n",
       "num_lab_procedures       int64\n",
       "num_procedures           int64\n",
       "num_medications          int64\n",
       "number_outpatient        int64\n",
       "number_emergency         int64\n",
       "number_inpatient         int64\n",
       "diag_1                category\n",
       "diag_2                category\n",
       "diag_3                category\n",
       "number_diagnoses         int64\n",
       "max_glu_serum         category\n",
       "A1Cresult             category\n",
       "metformin             category\n",
       "repaglinide           category\n",
       "glimepiride           category\n",
       "glipizide             category\n",
       "pioglitazone          category\n",
       "rosiglitazone         category\n",
       "acarbose              category\n",
       "insulin               category\n",
       "change                category\n",
       "diabetesMed           category\n",
       "readmitted            category\n",
       "dtype: object"
      ]
     },
     "execution_count": 56,
     "metadata": {},
     "output_type": "execute_result"
    }
   ],
   "source": [
    "data.dtypes"
   ]
  },
  {
   "cell_type": "code",
   "execution_count": 57,
   "metadata": {},
   "outputs": [
    {
     "data": {
      "text/html": [
       "<div>\n",
       "<style scoped>\n",
       "    .dataframe tbody tr th:only-of-type {\n",
       "        vertical-align: middle;\n",
       "    }\n",
       "\n",
       "    .dataframe tbody tr th {\n",
       "        vertical-align: top;\n",
       "    }\n",
       "\n",
       "    .dataframe thead th {\n",
       "        text-align: right;\n",
       "    }\n",
       "</style>\n",
       "<table border=\"1\" class=\"dataframe\">\n",
       "  <thead>\n",
       "    <tr style=\"text-align: right;\">\n",
       "      <th></th>\n",
       "      <th>race</th>\n",
       "      <th>gender</th>\n",
       "      <th>age</th>\n",
       "      <th>time_in_hospital</th>\n",
       "      <th>num_lab_procedures</th>\n",
       "      <th>num_procedures</th>\n",
       "      <th>num_medications</th>\n",
       "      <th>number_outpatient</th>\n",
       "      <th>number_emergency</th>\n",
       "      <th>number_inpatient</th>\n",
       "      <th>diag_1</th>\n",
       "      <th>diag_2</th>\n",
       "      <th>diag_3</th>\n",
       "      <th>number_diagnoses</th>\n",
       "      <th>max_glu_serum</th>\n",
       "      <th>A1Cresult</th>\n",
       "      <th>metformin</th>\n",
       "      <th>repaglinide</th>\n",
       "      <th>glimepiride</th>\n",
       "      <th>glipizide</th>\n",
       "      <th>pioglitazone</th>\n",
       "      <th>rosiglitazone</th>\n",
       "      <th>acarbose</th>\n",
       "      <th>insulin</th>\n",
       "      <th>change</th>\n",
       "      <th>diabetesMed</th>\n",
       "      <th>readmitted</th>\n",
       "    </tr>\n",
       "  </thead>\n",
       "  <tbody>\n",
       "    <tr>\n",
       "      <th>1</th>\n",
       "      <td>0</td>\n",
       "      <td>0</td>\n",
       "      <td>1</td>\n",
       "      <td>3</td>\n",
       "      <td>59</td>\n",
       "      <td>0</td>\n",
       "      <td>18</td>\n",
       "      <td>0</td>\n",
       "      <td>0</td>\n",
       "      <td>0</td>\n",
       "      <td>8</td>\n",
       "      <td>3</td>\n",
       "      <td>8</td>\n",
       "      <td>9</td>\n",
       "      <td>0</td>\n",
       "      <td>0</td>\n",
       "      <td>0</td>\n",
       "      <td>0</td>\n",
       "      <td>0</td>\n",
       "      <td>0</td>\n",
       "      <td>0</td>\n",
       "      <td>0</td>\n",
       "      <td>0</td>\n",
       "      <td>2</td>\n",
       "      <td>1</td>\n",
       "      <td>1</td>\n",
       "      <td>0</td>\n",
       "    </tr>\n",
       "    <tr>\n",
       "      <th>2</th>\n",
       "      <td>1</td>\n",
       "      <td>0</td>\n",
       "      <td>2</td>\n",
       "      <td>2</td>\n",
       "      <td>11</td>\n",
       "      <td>5</td>\n",
       "      <td>13</td>\n",
       "      <td>2</td>\n",
       "      <td>0</td>\n",
       "      <td>1</td>\n",
       "      <td>8</td>\n",
       "      <td>3</td>\n",
       "      <td>8</td>\n",
       "      <td>6</td>\n",
       "      <td>0</td>\n",
       "      <td>0</td>\n",
       "      <td>0</td>\n",
       "      <td>0</td>\n",
       "      <td>0</td>\n",
       "      <td>1</td>\n",
       "      <td>0</td>\n",
       "      <td>0</td>\n",
       "      <td>0</td>\n",
       "      <td>0</td>\n",
       "      <td>0</td>\n",
       "      <td>1</td>\n",
       "      <td>0</td>\n",
       "    </tr>\n",
       "    <tr>\n",
       "      <th>3</th>\n",
       "      <td>0</td>\n",
       "      <td>1</td>\n",
       "      <td>2</td>\n",
       "      <td>2</td>\n",
       "      <td>44</td>\n",
       "      <td>1</td>\n",
       "      <td>16</td>\n",
       "      <td>0</td>\n",
       "      <td>0</td>\n",
       "      <td>0</td>\n",
       "      <td>8</td>\n",
       "      <td>3</td>\n",
       "      <td>0</td>\n",
       "      <td>7</td>\n",
       "      <td>0</td>\n",
       "      <td>0</td>\n",
       "      <td>0</td>\n",
       "      <td>0</td>\n",
       "      <td>0</td>\n",
       "      <td>0</td>\n",
       "      <td>0</td>\n",
       "      <td>0</td>\n",
       "      <td>0</td>\n",
       "      <td>2</td>\n",
       "      <td>1</td>\n",
       "      <td>1</td>\n",
       "      <td>0</td>\n",
       "    </tr>\n",
       "    <tr>\n",
       "      <th>4</th>\n",
       "      <td>0</td>\n",
       "      <td>1</td>\n",
       "      <td>3</td>\n",
       "      <td>1</td>\n",
       "      <td>51</td>\n",
       "      <td>0</td>\n",
       "      <td>8</td>\n",
       "      <td>0</td>\n",
       "      <td>0</td>\n",
       "      <td>0</td>\n",
       "      <td>7</td>\n",
       "      <td>7</td>\n",
       "      <td>3</td>\n",
       "      <td>5</td>\n",
       "      <td>0</td>\n",
       "      <td>0</td>\n",
       "      <td>0</td>\n",
       "      <td>0</td>\n",
       "      <td>0</td>\n",
       "      <td>1</td>\n",
       "      <td>0</td>\n",
       "      <td>0</td>\n",
       "      <td>0</td>\n",
       "      <td>1</td>\n",
       "      <td>1</td>\n",
       "      <td>1</td>\n",
       "      <td>0</td>\n",
       "    </tr>\n",
       "    <tr>\n",
       "      <th>5</th>\n",
       "      <td>0</td>\n",
       "      <td>1</td>\n",
       "      <td>3</td>\n",
       "      <td>3</td>\n",
       "      <td>31</td>\n",
       "      <td>6</td>\n",
       "      <td>16</td>\n",
       "      <td>0</td>\n",
       "      <td>0</td>\n",
       "      <td>0</td>\n",
       "      <td>0</td>\n",
       "      <td>0</td>\n",
       "      <td>3</td>\n",
       "      <td>9</td>\n",
       "      <td>0</td>\n",
       "      <td>0</td>\n",
       "      <td>0</td>\n",
       "      <td>0</td>\n",
       "      <td>0</td>\n",
       "      <td>0</td>\n",
       "      <td>0</td>\n",
       "      <td>0</td>\n",
       "      <td>0</td>\n",
       "      <td>1</td>\n",
       "      <td>0</td>\n",
       "      <td>1</td>\n",
       "      <td>0</td>\n",
       "    </tr>\n",
       "  </tbody>\n",
       "</table>\n",
       "</div>"
      ],
      "text/plain": [
       "  race gender age  time_in_hospital  num_lab_procedures  num_procedures  \\\n",
       "1    0      0   1                 3                  59               0   \n",
       "2    1      0   2                 2                  11               5   \n",
       "3    0      1   2                 2                  44               1   \n",
       "4    0      1   3                 1                  51               0   \n",
       "5    0      1   3                 3                  31               6   \n",
       "\n",
       "   num_medications  number_outpatient  number_emergency  number_inpatient  \\\n",
       "1               18                  0                 0                 0   \n",
       "2               13                  2                 0                 1   \n",
       "3               16                  0                 0                 0   \n",
       "4                8                  0                 0                 0   \n",
       "5               16                  0                 0                 0   \n",
       "\n",
       "  diag_1 diag_2 diag_3  number_diagnoses max_glu_serum A1Cresult metformin  \\\n",
       "1      8      3      8                 9             0         0         0   \n",
       "2      8      3      8                 6             0         0         0   \n",
       "3      8      3      0                 7             0         0         0   \n",
       "4      7      7      3                 5             0         0         0   \n",
       "5      0      0      3                 9             0         0         0   \n",
       "\n",
       "  repaglinide glimepiride glipizide pioglitazone rosiglitazone acarbose  \\\n",
       "1           0           0         0            0             0        0   \n",
       "2           0           0         1            0             0        0   \n",
       "3           0           0         0            0             0        0   \n",
       "4           0           0         1            0             0        0   \n",
       "5           0           0         0            0             0        0   \n",
       "\n",
       "  insulin change diabetesMed readmitted  \n",
       "1       2      1           1          0  \n",
       "2       0      0           1          0  \n",
       "3       2      1           1          0  \n",
       "4       1      1           1          0  \n",
       "5       1      0           1          0  "
      ]
     },
     "execution_count": 57,
     "metadata": {},
     "output_type": "execute_result"
    }
   ],
   "source": [
    "data.head()"
   ]
  },
  {
   "cell_type": "code",
   "execution_count": 58,
   "metadata": {},
   "outputs": [],
   "source": [
    "def histo_plot(x,data):\n",
    "    data[x].hist(bins = 10)"
   ]
  },
  {
   "cell_type": "code",
   "execution_count": 59,
   "metadata": {},
   "outputs": [
    {
     "data": {
      "image/png": "[encoded data removed]",
      "text/plain": [
       "<Figure size 432x288 with 1 Axes>"
      ]
     },
     "metadata": {
      "needs_background": "light"
     },
     "output_type": "display_data"
    }
   ],
   "source": [
    "histo_plot('num_lab_procedures',data)"
   ]
  },
  {
   "cell_type": "code",
   "execution_count": 60,
   "metadata": {},
   "outputs": [
    {
     "data": {
      "text/plain": [
       "Index(['race', 'gender', 'age', 'time_in_hospital', 'num_lab_procedures',\n",
       "       'num_procedures', 'num_medications', 'number_outpatient',\n",
       "       'number_emergency', 'number_inpatient', 'diag_1', 'diag_2', 'diag_3',\n",
       "       'number_diagnoses', 'max_glu_serum', 'A1Cresult', 'metformin',\n",
       "       'repaglinide', 'glimepiride', 'glipizide', 'pioglitazone',\n",
       "       'rosiglitazone', 'acarbose', 'insulin', 'change', 'diabetesMed',\n",
       "       'readmitted'],\n",
       "      dtype='object')"
      ]
     },
     "execution_count": 60,
     "metadata": {},
     "output_type": "execute_result"
    }
   ],
   "source": [
    "data.columns"
   ]
  },
  {
   "cell_type": "code",
   "execution_count": 61,
   "metadata": {},
   "outputs": [
    {
     "data": {
      "text/html": [
       "<div>\n",
       "<style scoped>\n",
       "    .dataframe tbody tr th:only-of-type {\n",
       "        vertical-align: middle;\n",
       "    }\n",
       "\n",
       "    .dataframe tbody tr th {\n",
       "        vertical-align: top;\n",
       "    }\n",
       "\n",
       "    .dataframe thead th {\n",
       "        text-align: right;\n",
       "    }\n",
       "</style>\n",
       "<table border=\"1\" class=\"dataframe\">\n",
       "  <thead>\n",
       "    <tr style=\"text-align: right;\">\n",
       "      <th></th>\n",
       "      <th>race</th>\n",
       "      <th>gender</th>\n",
       "      <th>age</th>\n",
       "      <th>time_in_hospital</th>\n",
       "      <th>num_lab_procedures</th>\n",
       "      <th>num_procedures</th>\n",
       "      <th>num_medications</th>\n",
       "      <th>number_outpatient</th>\n",
       "      <th>number_emergency</th>\n",
       "      <th>number_inpatient</th>\n",
       "      <th>diag_1</th>\n",
       "      <th>diag_2</th>\n",
       "      <th>diag_3</th>\n",
       "      <th>number_diagnoses</th>\n",
       "      <th>max_glu_serum</th>\n",
       "      <th>A1Cresult</th>\n",
       "      <th>metformin</th>\n",
       "      <th>repaglinide</th>\n",
       "      <th>glimepiride</th>\n",
       "      <th>glipizide</th>\n",
       "      <th>pioglitazone</th>\n",
       "      <th>rosiglitazone</th>\n",
       "      <th>acarbose</th>\n",
       "      <th>insulin</th>\n",
       "      <th>change</th>\n",
       "      <th>diabetesMed</th>\n",
       "      <th>readmitted</th>\n",
       "    </tr>\n",
       "  </thead>\n",
       "  <tbody>\n",
       "    <tr>\n",
       "      <th>1</th>\n",
       "      <td>0</td>\n",
       "      <td>0</td>\n",
       "      <td>1</td>\n",
       "      <td>3</td>\n",
       "      <td>59</td>\n",
       "      <td>0</td>\n",
       "      <td>18</td>\n",
       "      <td>0</td>\n",
       "      <td>0</td>\n",
       "      <td>0</td>\n",
       "      <td>8</td>\n",
       "      <td>3</td>\n",
       "      <td>8</td>\n",
       "      <td>9</td>\n",
       "      <td>0</td>\n",
       "      <td>0</td>\n",
       "      <td>0</td>\n",
       "      <td>0</td>\n",
       "      <td>0</td>\n",
       "      <td>0</td>\n",
       "      <td>0</td>\n",
       "      <td>0</td>\n",
       "      <td>0</td>\n",
       "      <td>2</td>\n",
       "      <td>1</td>\n",
       "      <td>1</td>\n",
       "      <td>0</td>\n",
       "    </tr>\n",
       "    <tr>\n",
       "      <th>2</th>\n",
       "      <td>1</td>\n",
       "      <td>0</td>\n",
       "      <td>2</td>\n",
       "      <td>2</td>\n",
       "      <td>11</td>\n",
       "      <td>5</td>\n",
       "      <td>13</td>\n",
       "      <td>2</td>\n",
       "      <td>0</td>\n",
       "      <td>1</td>\n",
       "      <td>8</td>\n",
       "      <td>3</td>\n",
       "      <td>8</td>\n",
       "      <td>6</td>\n",
       "      <td>0</td>\n",
       "      <td>0</td>\n",
       "      <td>0</td>\n",
       "      <td>0</td>\n",
       "      <td>0</td>\n",
       "      <td>1</td>\n",
       "      <td>0</td>\n",
       "      <td>0</td>\n",
       "      <td>0</td>\n",
       "      <td>0</td>\n",
       "      <td>0</td>\n",
       "      <td>1</td>\n",
       "      <td>0</td>\n",
       "    </tr>\n",
       "    <tr>\n",
       "      <th>3</th>\n",
       "      <td>0</td>\n",
       "      <td>1</td>\n",
       "      <td>2</td>\n",
       "      <td>2</td>\n",
       "      <td>44</td>\n",
       "      <td>1</td>\n",
       "      <td>16</td>\n",
       "      <td>0</td>\n",
       "      <td>0</td>\n",
       "      <td>0</td>\n",
       "      <td>8</td>\n",
       "      <td>3</td>\n",
       "      <td>0</td>\n",
       "      <td>7</td>\n",
       "      <td>0</td>\n",
       "      <td>0</td>\n",
       "      <td>0</td>\n",
       "      <td>0</td>\n",
       "      <td>0</td>\n",
       "      <td>0</td>\n",
       "      <td>0</td>\n",
       "      <td>0</td>\n",
       "      <td>0</td>\n",
       "      <td>2</td>\n",
       "      <td>1</td>\n",
       "      <td>1</td>\n",
       "      <td>0</td>\n",
       "    </tr>\n",
       "    <tr>\n",
       "      <th>4</th>\n",
       "      <td>0</td>\n",
       "      <td>1</td>\n",
       "      <td>3</td>\n",
       "      <td>1</td>\n",
       "      <td>51</td>\n",
       "      <td>0</td>\n",
       "      <td>8</td>\n",
       "      <td>0</td>\n",
       "      <td>0</td>\n",
       "      <td>0</td>\n",
       "      <td>7</td>\n",
       "      <td>7</td>\n",
       "      <td>3</td>\n",
       "      <td>5</td>\n",
       "      <td>0</td>\n",
       "      <td>0</td>\n",
       "      <td>0</td>\n",
       "      <td>0</td>\n",
       "      <td>0</td>\n",
       "      <td>1</td>\n",
       "      <td>0</td>\n",
       "      <td>0</td>\n",
       "      <td>0</td>\n",
       "      <td>1</td>\n",
       "      <td>1</td>\n",
       "      <td>1</td>\n",
       "      <td>0</td>\n",
       "    </tr>\n",
       "    <tr>\n",
       "      <th>5</th>\n",
       "      <td>0</td>\n",
       "      <td>1</td>\n",
       "      <td>3</td>\n",
       "      <td>3</td>\n",
       "      <td>31</td>\n",
       "      <td>6</td>\n",
       "      <td>16</td>\n",
       "      <td>0</td>\n",
       "      <td>0</td>\n",
       "      <td>0</td>\n",
       "      <td>0</td>\n",
       "      <td>0</td>\n",
       "      <td>3</td>\n",
       "      <td>9</td>\n",
       "      <td>0</td>\n",
       "      <td>0</td>\n",
       "      <td>0</td>\n",
       "      <td>0</td>\n",
       "      <td>0</td>\n",
       "      <td>0</td>\n",
       "      <td>0</td>\n",
       "      <td>0</td>\n",
       "      <td>0</td>\n",
       "      <td>1</td>\n",
       "      <td>0</td>\n",
       "      <td>1</td>\n",
       "      <td>0</td>\n",
       "    </tr>\n",
       "  </tbody>\n",
       "</table>\n",
       "</div>"
      ],
      "text/plain": [
       "  race gender age  time_in_hospital  num_lab_procedures  num_procedures  \\\n",
       "1    0      0   1                 3                  59               0   \n",
       "2    1      0   2                 2                  11               5   \n",
       "3    0      1   2                 2                  44               1   \n",
       "4    0      1   3                 1                  51               0   \n",
       "5    0      1   3                 3                  31               6   \n",
       "\n",
       "   num_medications  number_outpatient  number_emergency  number_inpatient  \\\n",
       "1               18                  0                 0                 0   \n",
       "2               13                  2                 0                 1   \n",
       "3               16                  0                 0                 0   \n",
       "4                8                  0                 0                 0   \n",
       "5               16                  0                 0                 0   \n",
       "\n",
       "  diag_1 diag_2 diag_3  number_diagnoses max_glu_serum A1Cresult metformin  \\\n",
       "1      8      3      8                 9             0         0         0   \n",
       "2      8      3      8                 6             0         0         0   \n",
       "3      8      3      0                 7             0         0         0   \n",
       "4      7      7      3                 5             0         0         0   \n",
       "5      0      0      3                 9             0         0         0   \n",
       "\n",
       "  repaglinide glimepiride glipizide pioglitazone rosiglitazone acarbose  \\\n",
       "1           0           0         0            0             0        0   \n",
       "2           0           0         1            0             0        0   \n",
       "3           0           0         0            0             0        0   \n",
       "4           0           0         1            0             0        0   \n",
       "5           0           0         0            0             0        0   \n",
       "\n",
       "  insulin change diabetesMed readmitted  \n",
       "1       2      1           1          0  \n",
       "2       0      0           1          0  \n",
       "3       2      1           1          0  \n",
       "4       1      1           1          0  \n",
       "5       1      0           1          0  "
      ]
     },
     "execution_count": 61,
     "metadata": {},
     "output_type": "execute_result"
    }
   ],
   "source": [
    "data.head()"
   ]
  },
  {
   "cell_type": "code",
   "execution_count": 62,
   "metadata": {},
   "outputs": [],
   "source": [
    "from sklearn.feature_selection import f_classif"
   ]
  },
  {
   "cell_type": "code",
   "execution_count": 63,
   "metadata": {},
   "outputs": [],
   "source": [
    "num_cols = data.select_dtypes(['int64','float64']).columns"
   ]
  },
  {
   "cell_type": "code",
   "execution_count": 64,
   "metadata": {},
   "outputs": [],
   "source": [
    "x = f_classif(data[num_cols],data['readmitted'])"
   ]
  },
  {
   "cell_type": "code",
   "execution_count": 65,
   "metadata": {},
   "outputs": [],
   "source": [
    "x = pd.DataFrame(x).T"
   ]
  },
  {
   "cell_type": "code",
   "execution_count": 66,
   "metadata": {},
   "outputs": [
    {
     "data": {
      "text/html": [
       "<div>\n",
       "<style scoped>\n",
       "    .dataframe tbody tr th:only-of-type {\n",
       "        vertical-align: middle;\n",
       "    }\n",
       "\n",
       "    .dataframe tbody tr th {\n",
       "        vertical-align: top;\n",
       "    }\n",
       "\n",
       "    .dataframe thead th {\n",
       "        text-align: right;\n",
       "    }\n",
       "</style>\n",
       "<table border=\"1\" class=\"dataframe\">\n",
       "  <thead>\n",
       "    <tr style=\"text-align: right;\">\n",
       "      <th></th>\n",
       "      <th>0</th>\n",
       "      <th>1</th>\n",
       "    </tr>\n",
       "  </thead>\n",
       "  <tbody>\n",
       "    <tr>\n",
       "      <th>0</th>\n",
       "      <td>185.017732</td>\n",
       "      <td>4.248086e-42</td>\n",
       "    </tr>\n",
       "    <tr>\n",
       "      <th>1</th>\n",
       "      <td>38.850302</td>\n",
       "      <td>4.594371e-10</td>\n",
       "    </tr>\n",
       "    <tr>\n",
       "      <th>2</th>\n",
       "      <td>15.248803</td>\n",
       "      <td>9.429954e-05</td>\n",
       "    </tr>\n",
       "    <tr>\n",
       "      <th>3</th>\n",
       "      <td>140.100085</td>\n",
       "      <td>2.662873e-32</td>\n",
       "    </tr>\n",
       "    <tr>\n",
       "      <th>4</th>\n",
       "      <td>33.236579</td>\n",
       "      <td>8.184481e-09</td>\n",
       "    </tr>\n",
       "    <tr>\n",
       "      <th>5</th>\n",
       "      <td>360.892506</td>\n",
       "      <td>2.511366e-80</td>\n",
       "    </tr>\n",
       "    <tr>\n",
       "      <th>6</th>\n",
       "      <td>2703.614127</td>\n",
       "      <td>0.000000e+00</td>\n",
       "    </tr>\n",
       "    <tr>\n",
       "      <th>7</th>\n",
       "      <td>212.383437</td>\n",
       "      <td>4.658282e-48</td>\n",
       "    </tr>\n",
       "  </tbody>\n",
       "</table>\n",
       "</div>"
      ],
      "text/plain": [
       "             0             1\n",
       "0   185.017732  4.248086e-42\n",
       "1    38.850302  4.594371e-10\n",
       "2    15.248803  9.429954e-05\n",
       "3   140.100085  2.662873e-32\n",
       "4    33.236579  8.184481e-09\n",
       "5   360.892506  2.511366e-80\n",
       "6  2703.614127  0.000000e+00\n",
       "7   212.383437  4.658282e-48"
      ]
     },
     "execution_count": 66,
     "metadata": {},
     "output_type": "execute_result"
    }
   ],
   "source": [
    "x"
   ]
  },
  {
   "cell_type": "code",
   "execution_count": 67,
   "metadata": {},
   "outputs": [],
   "source": [
    "x.rename(columns = {0:'F_statistic',1:'p-values'}, inplace = True)"
   ]
  },
  {
   "cell_type": "code",
   "execution_count": 68,
   "metadata": {},
   "outputs": [
    {
     "data": {
      "text/plain": [
       "0    False\n",
       "1    False\n",
       "2    False\n",
       "3    False\n",
       "4    False\n",
       "5    False\n",
       "6    False\n",
       "7    False\n",
       "Name: p-values, dtype: bool"
      ]
     },
     "execution_count": 68,
     "metadata": {},
     "output_type": "execute_result"
    }
   ],
   "source": [
    "x['p-values'] > 0.05"
   ]
  },
  {
   "cell_type": "code",
   "execution_count": 69,
   "metadata": {},
   "outputs": [
    {
     "data": {
      "text/plain": [
       "race                  category\n",
       "gender                category\n",
       "age                   category\n",
       "time_in_hospital         int64\n",
       "num_lab_procedures       int64\n",
       "num_procedures           int64\n",
       "num_medications          int64\n",
       "number_outpatient        int64\n",
       "number_emergency         int64\n",
       "number_inpatient         int64\n",
       "diag_1                category\n",
       "diag_2                category\n",
       "diag_3                category\n",
       "number_diagnoses         int64\n",
       "max_glu_serum         category\n",
       "A1Cresult             category\n",
       "metformin             category\n",
       "repaglinide           category\n",
       "glimepiride           category\n",
       "glipizide             category\n",
       "pioglitazone          category\n",
       "rosiglitazone         category\n",
       "acarbose              category\n",
       "insulin               category\n",
       "change                category\n",
       "diabetesMed           category\n",
       "readmitted            category\n",
       "dtype: object"
      ]
     },
     "execution_count": 69,
     "metadata": {},
     "output_type": "execute_result"
    }
   ],
   "source": [
    "data.dtypes"
   ]
  },
  {
   "cell_type": "markdown",
   "metadata": {},
   "source": [
    "## Splitting the data into train and test"
   ]
  },
  {
   "cell_type": "code",
   "execution_count": 70,
   "metadata": {},
   "outputs": [],
   "source": [
    "from sklearn.model_selection import train_test_split\n",
    "from sklearn.impute import SimpleImputer\n",
    "from sklearn.preprocessing import StandardScaler, OneHotEncoder\n",
    "from sklearn.linear_model import LogisticRegression\n",
    "\n",
    "from sklearn.metrics import accuracy_score,recall_score,precision_score,f1_score \n",
    "from sklearn.metrics import classification_report, confusion_matrix\n",
    "from sklearn.ensemble import RandomForestClassifier,GradientBoostingClassifier\n",
    "from sklearn.feature_selection import SelectFromModel\n",
    "\n",
    "from sklearn.model_selection import GridSearchCV\n",
    "from sklearn.tree import DecisionTreeClassifier\n",
    "from sklearn import tree\n",
    "from sklearn.ensemble import AdaBoostClassifier\n",
    "from sklearn_pandas import DataFrameMapper\n",
    "from sklearn.model_selection import StratifiedShuffleSplit\n",
    "\n",
    "from xgboost import XGBClassifier\n",
    "\n",
    "# !pip install imblearn\n",
    "from imblearn.over_sampling import SMOTE"
   ]
  },
  {
   "cell_type": "code",
   "execution_count": 71,
   "metadata": {},
   "outputs": [],
   "source": [
    "y=data[[\"readmitted\"]]\n",
    "X=data.drop('readmitted', axis=1)\n",
    "X_train, X_test, y_train, y_test = train_test_split(X, y, test_size=0.1,random_state=200, stratify=y)"
   ]
  },
  {
   "cell_type": "code",
   "execution_count": 72,
   "metadata": {},
   "outputs": [],
   "source": [
    "X_train, X_val, y_train, y_val = train_test_split(X_train, y_train, test_size=0.2,random_state=340, stratify=y_train)"
   ]
  },
  {
   "cell_type": "code",
   "execution_count": 73,
   "metadata": {},
   "outputs": [
    {
     "name": "stdout",
     "output_type": "stream",
     "text": [
      "['readmitted_0', 'readmitted_1']\n"
     ]
    }
   ],
   "source": [
    "ohe = OneHotEncoder(handle_unknown='error')\n",
    "\n",
    "ohe.fit(y_train)\n",
    "\n",
    "columns_ohe = list(ohe.get_feature_names(y_train.columns))\n",
    "print(columns_ohe)\n",
    "\n",
    "y_train_ohe = ohe.transform(y_train)\n",
    "y_val_ohe = ohe.transform(y_val)\n",
    "y_test_ohe = ohe.transform(y_test)"
   ]
  },
  {
   "cell_type": "code",
   "execution_count": 74,
   "metadata": {},
   "outputs": [],
   "source": [
    "y_train_ohe = pd.DataFrame(y_train_ohe.todense(), columns=columns_ohe)\n",
    "y_val_ohe = pd.DataFrame(y_val_ohe.todense(), columns=columns_ohe)\n",
    "y_test_ohe = pd.DataFrame(y_test_ohe.todense(), columns=columns_ohe)"
   ]
  },
  {
   "cell_type": "code",
   "execution_count": 75,
   "metadata": {},
   "outputs": [],
   "source": [
    "y_train_ohe = y_train_ohe.values\n",
    "y_val_ohe = y_val_ohe.values\n",
    "y_test_ohe = y_test_ohe.values"
   ]
  },
  {
   "cell_type": "code",
   "execution_count": 76,
   "metadata": {},
   "outputs": [
    {
     "name": "stdout",
     "output_type": "stream",
     "text": [
      "(70596, 26)\n",
      "(70596, 2)\n",
      "(17650, 26)\n",
      "(17650, 2)\n",
      "(9806, 26)\n",
      "(9806, 2)\n"
     ]
    }
   ],
   "source": [
    "print(X_train.shape)\n",
    "print(y_train_ohe.shape)\n",
    "print(X_val.shape)\n",
    "print(y_val_ohe.shape)\n",
    "print(X_test.shape)\n",
    "print(y_test_ohe.shape)"
   ]
  },
  {
   "cell_type": "code",
   "execution_count": 77,
   "metadata": {},
   "outputs": [
    {
     "data": {
      "text/plain": [
       "Index(['time_in_hospital', 'num_lab_procedures', 'num_procedures',\n",
       "       'num_medications', 'number_outpatient', 'number_emergency',\n",
       "       'number_inpatient', 'number_diagnoses'],\n",
       "      dtype='object')"
      ]
     },
     "execution_count": 77,
     "metadata": {},
     "output_type": "execute_result"
    }
   ],
   "source": [
    "num_attr=X_train.select_dtypes(['int64','float64']).columns\n",
    "num_attr"
   ]
  },
  {
   "cell_type": "code",
   "execution_count": 78,
   "metadata": {},
   "outputs": [
    {
     "data": {
      "text/plain": [
       "Index(['race', 'gender', 'age', 'diag_1', 'diag_2', 'diag_3', 'max_glu_serum',\n",
       "       'A1Cresult', 'metformin', 'repaglinide', 'glimepiride', 'glipizide',\n",
       "       'pioglitazone', 'rosiglitazone', 'acarbose', 'insulin', 'change',\n",
       "       'diabetesMed'],\n",
       "      dtype='object')"
      ]
     },
     "execution_count": 78,
     "metadata": {},
     "output_type": "execute_result"
    }
   ],
   "source": [
    "cat_attr = X_train.select_dtypes('category').columns\n",
    "cat_attr"
   ]
  },
  {
   "cell_type": "code",
   "execution_count": 79,
   "metadata": {},
   "outputs": [],
   "source": [
    "imputer = SimpleImputer(strategy='median')\n",
    "\n",
    "imputer = imputer.fit(X_train[num_attr])\n",
    "\n",
    "X_train[num_attr] = imputer.transform(X_train[num_attr])\n",
    "X_val[num_attr] = imputer.transform(X_val[num_attr])\n",
    "X_test[num_attr] = imputer.transform(X_test[num_attr])"
   ]
  },
  {
   "cell_type": "code",
   "execution_count": 80,
   "metadata": {},
   "outputs": [
    {
     "data": {
      "text/plain": [
       "race                  category\n",
       "gender                category\n",
       "age                   category\n",
       "time_in_hospital       float64\n",
       "num_lab_procedures     float64\n",
       "num_procedures         float64\n",
       "num_medications        float64\n",
       "number_outpatient      float64\n",
       "number_emergency       float64\n",
       "number_inpatient       float64\n",
       "diag_1                category\n",
       "diag_2                category\n",
       "diag_3                category\n",
       "number_diagnoses       float64\n",
       "max_glu_serum         category\n",
       "A1Cresult             category\n",
       "metformin             category\n",
       "repaglinide           category\n",
       "glimepiride           category\n",
       "glipizide             category\n",
       "pioglitazone          category\n",
       "rosiglitazone         category\n",
       "acarbose              category\n",
       "insulin               category\n",
       "change                category\n",
       "diabetesMed           category\n",
       "dtype: object"
      ]
     },
     "execution_count": 80,
     "metadata": {},
     "output_type": "execute_result"
    }
   ],
   "source": [
    "X_train.dtypes"
   ]
  },
  {
   "cell_type": "code",
   "execution_count": 81,
   "metadata": {},
   "outputs": [],
   "source": [
    "imputer = SimpleImputer(strategy='most_frequent')\n",
    "\n",
    "imputer = imputer.fit(X_train[cat_attr])\n",
    "\n",
    "X_train[cat_attr] = imputer.transform(X_train[cat_attr])\n",
    "X_val[cat_attr] = imputer.transform(X_val[cat_attr])\n",
    "X_test[cat_attr] = imputer.transform(X_test[cat_attr])"
   ]
  },
  {
   "cell_type": "code",
   "execution_count": 82,
   "metadata": {},
   "outputs": [],
   "source": [
    "mapper = DataFrameMapper(\n",
    "  [([continuous_col], StandardScaler()) for continuous_col in num_attr] +\n",
    "  [([categorical_col], OneHotEncoder(handle_unknown='error')) for categorical_col in cat_attr]\n",
    ", df_out=True)"
   ]
  },
  {
   "cell_type": "code",
   "execution_count": 83,
   "metadata": {},
   "outputs": [],
   "source": [
    "mapper.fit(X_train)\n",
    "\n",
    "X_train_final = mapper.transform(X_train)\n",
    "X_val_final = mapper.transform(X_val)\n",
    "X_test_final = mapper.transform(X_test)"
   ]
  },
  {
   "cell_type": "code",
   "execution_count": 84,
   "metadata": {},
   "outputs": [
    {
     "data": {
      "text/plain": [
       "(70596, 91)"
      ]
     },
     "execution_count": 84,
     "metadata": {},
     "output_type": "execute_result"
    }
   ],
   "source": [
    "X_train_final.shape"
   ]
  },
  {
   "cell_type": "code",
   "execution_count": 85,
   "metadata": {},
   "outputs": [
    {
     "data": {
      "text/plain": [
       "Index(['time_in_hospital', 'num_lab_procedures', 'num_procedures',\n",
       "       'num_medications', 'number_outpatient', 'number_emergency',\n",
       "       'number_inpatient', 'number_diagnoses', 'race_x0_0', 'race_x0_1',\n",
       "       'race_x0_2', 'race_x0_3', 'race_x0_4', 'gender_x0_0', 'gender_x0_1',\n",
       "       'age_x0_1', 'age_x0_2', 'age_x0_3', 'age_x0_4', 'age_x0_5',\n",
       "       'diag_1_x0_0', 'diag_1_x0_1', 'diag_1_x0_2', 'diag_1_x0_3',\n",
       "       'diag_1_x0_4', 'diag_1_x0_5', 'diag_1_x0_6', 'diag_1_x0_7',\n",
       "       'diag_1_x0_8', 'diag_2_x0_0', 'diag_2_x0_1', 'diag_2_x0_2',\n",
       "       'diag_2_x0_3', 'diag_2_x0_4', 'diag_2_x0_5', 'diag_2_x0_6',\n",
       "       'diag_2_x0_7', 'diag_2_x0_8', 'diag_3_x0_0', 'diag_3_x0_1',\n",
       "       'diag_3_x0_2', 'diag_3_x0_3', 'diag_3_x0_4', 'diag_3_x0_5',\n",
       "       'diag_3_x0_6', 'diag_3_x0_7', 'diag_3_x0_8', 'max_glu_serum_x0_-2',\n",
       "       'max_glu_serum_x0_-1', 'max_glu_serum_x0_0', 'max_glu_serum_x0_1',\n",
       "       'A1Cresult_x0_-2', 'A1Cresult_x0_-1', 'A1Cresult_x0_0',\n",
       "       'A1Cresult_x0_1', 'metformin_x0_-1', 'metformin_x0_0', 'metformin_x0_1',\n",
       "       'metformin_x0_2', 'repaglinide_x0_-1', 'repaglinide_x0_0',\n",
       "       'repaglinide_x0_1', 'repaglinide_x0_2', 'glimepiride_x0_-1',\n",
       "       'glimepiride_x0_0', 'glimepiride_x0_1', 'glimepiride_x0_2',\n",
       "       'glipizide_x0_-1', 'glipizide_x0_0', 'glipizide_x0_1', 'glipizide_x0_2',\n",
       "       'pioglitazone_x0_-1', 'pioglitazone_x0_0', 'pioglitazone_x0_1',\n",
       "       'pioglitazone_x0_2', 'rosiglitazone_x0_-1', 'rosiglitazone_x0_0',\n",
       "       'rosiglitazone_x0_1', 'rosiglitazone_x0_2', 'acarbose_x0_-1',\n",
       "       'acarbose_x0_0', 'acarbose_x0_1', 'acarbose_x0_2', 'insulin_x0_-1',\n",
       "       'insulin_x0_0', 'insulin_x0_1', 'insulin_x0_2', 'change_x0_0',\n",
       "       'change_x0_1', 'diabetesMed_x0_0', 'diabetesMed_x0_1'],\n",
       "      dtype='object')"
      ]
     },
     "execution_count": 85,
     "metadata": {},
     "output_type": "execute_result"
    }
   ],
   "source": [
    "X_train_final.columns"
   ]
  },
  {
   "cell_type": "code",
   "execution_count": 86,
   "metadata": {},
   "outputs": [],
   "source": [
    "scores = pd.DataFrame(columns=['Model','Train_Recall','Val_Recall','Train_Precision','Val_Precision','Train_F1_Score','Val_F1_Score','Train_Accuracy','Val_Accuracy',])\n",
    "\n",
    "def get_metrics(train_actual,train_predicted,val_actual,val_predicted,model_description,dataframe):\n",
    "    classifcation_report_and_CM_train_test(train_actual,train_predicted,val_actual,val_predicted)\n",
    "    \n",
    "    x = pd.crosstab(train_actual,train_predicted, rownames=['Actual'], colnames=['Predicted'])\n",
    "    \n",
    "    train_accuracy = round(accuracy_score(train_actual,train_predicted),4)\n",
    "    \n",
    "    train_recall   = round((x.iloc[1,1]/(x.iloc[1,0]+x.iloc[1,1])),4)\n",
    "        \n",
    "    train_precision= round((x.iloc[1,1]/(x.iloc[0,1]+x.iloc[1,1])),4)\n",
    "    \n",
    "    train_f1score  = round(2*(train_recall*train_precision)/(train_recall+train_precision),4)\n",
    "    \n",
    "    y = pd.crosstab(val_actual,val_predicted, rownames=['Actual'], colnames=['Predicted'])\n",
    "    \n",
    "    val_accuracy = round(accuracy_score(val_actual,val_predicted),4)\n",
    "            \n",
    "    val_recall   = round((y.iloc[1,1]/(y.iloc[1,0]+y.iloc[1,1])),4)\n",
    "    \n",
    "    val_precision= round((y.iloc[1,1]/(y.iloc[0,1]+y.iloc[1,1])),4)\n",
    "    \n",
    "    val_f1score  = round(2*(val_recall*val_precision)/(val_recall+val_precision),4)\n",
    "    \n",
    "    dataframe = dataframe.append(pd.Series([model_description, train_recall,val_recall,train_precision,val_precision,train_f1score,\n",
    "                                            val_f1score, train_accuracy,val_accuracy],\n",
    "                                           index=scores.columns ), ignore_index=True)\n",
    "    \n",
    "    return(dataframe)"
   ]
  },
  {
   "cell_type": "code",
   "execution_count": 87,
   "metadata": {},
   "outputs": [],
   "source": [
    "def classifcation_report_and_CM_train_test(train, train_pred, val, val_pred):\n",
    "\n",
    "    print('''\n",
    "            =========================================================\n",
    "            CLASSIFICATION REPORT AND CONFUSION MATRIX FOR TRAIN DATA\n",
    "            =========================================================\n",
    "            ''')\n",
    "    print(pd.crosstab(train, train_pred, rownames=['Actual'], colnames=['Predicted']))\n",
    "    print(classification_report(train, train_pred, digits=4))\n",
    "    \n",
    "\n",
    "    print('''\n",
    "            =========================================================\n",
    "            CLASSIFICATION REPORT AND CONFUSION MATRIX FOR Val DATA\n",
    "            =========================================================\n",
    "            ''')\n",
    "    print(pd.crosstab(val, val_pred, rownames=['Actual'], colnames=['Predicted']))\n",
    "    print(classification_report(val, val_pred, digits=4))"
   ]
  },
  {
   "cell_type": "code",
   "execution_count": 88,
   "metadata": {},
   "outputs": [
    {
     "data": {
      "text/html": [
       "<div>\n",
       "<style scoped>\n",
       "    .dataframe tbody tr th:only-of-type {\n",
       "        vertical-align: middle;\n",
       "    }\n",
       "\n",
       "    .dataframe tbody tr th {\n",
       "        vertical-align: top;\n",
       "    }\n",
       "\n",
       "    .dataframe thead th {\n",
       "        text-align: right;\n",
       "    }\n",
       "</style>\n",
       "<table border=\"1\" class=\"dataframe\">\n",
       "  <thead>\n",
       "    <tr style=\"text-align: right;\">\n",
       "      <th></th>\n",
       "      <th>Model</th>\n",
       "      <th>Train_Recall</th>\n",
       "      <th>Val_Recall</th>\n",
       "      <th>Train_Precision</th>\n",
       "      <th>Val_Precision</th>\n",
       "      <th>Train_F1_Score</th>\n",
       "      <th>Val_F1_Score</th>\n",
       "      <th>Train_Accuracy</th>\n",
       "      <th>Val_Accuracy</th>\n",
       "    </tr>\n",
       "  </thead>\n",
       "  <tbody>\n",
       "  </tbody>\n",
       "</table>\n",
       "</div>"
      ],
      "text/plain": [
       "Empty DataFrame\n",
       "Columns: [Model, Train_Recall, Val_Recall, Train_Precision, Val_Precision, Train_F1_Score, Val_F1_Score, Train_Accuracy, Val_Accuracy]\n",
       "Index: []"
      ]
     },
     "execution_count": 88,
     "metadata": {},
     "output_type": "execute_result"
    }
   ],
   "source": [
    "scores"
   ]
  },
  {
   "cell_type": "markdown",
   "metadata": {},
   "source": [
    "### Model Building"
   ]
  },
  {
   "cell_type": "code",
   "execution_count": 89,
   "metadata": {},
   "outputs": [],
   "source": [
    "import tensorflow as tf\n",
    "from tensorflow.keras.models import Sequential\n",
    "from tensorflow.keras import Input, Model\n",
    "from tensorflow.keras.layers import Dense, Dropout, Activation\n",
    "from tensorflow.keras.regularizers import l2, l1\n",
    "from tensorflow.keras.callbacks import EarlyStopping, ModelCheckpoint"
   ]
  },
  {
   "cell_type": "code",
   "execution_count": 90,
   "metadata": {},
   "outputs": [],
   "source": [
    "np.random.seed(340)\n",
    "tf.random.set_seed(340)"
   ]
  },
  {
   "cell_type": "code",
   "execution_count": 91,
   "metadata": {},
   "outputs": [
    {
     "data": {
      "text/plain": [
       "91"
      ]
     },
     "execution_count": 91,
     "metadata": {},
     "output_type": "execute_result"
    }
   ],
   "source": [
    "input_shape = X_train_final.shape[1]\n",
    "input_shape"
   ]
  },
  {
   "cell_type": "code",
   "execution_count": 92,
   "metadata": {},
   "outputs": [],
   "source": [
    "model = Sequential()\n",
    "model.add(Dense(800, input_dim=input_shape, kernel_initializer=tf.keras.initializers.glorot_normal(), activation='relu',kernel_regularizer=l2(2e-4)))\n",
    "\n",
    "model.add(Dense(750, kernel_initializer='glorot_normal', activation='relu'))\n",
    "\n",
    "model.add(Dense(500, kernel_initializer='glorot_normal', activation='relu'))\n",
    "\n",
    "model.add(Dense(250, kernel_initializer='glorot_normal', activation='relu'))\n",
    "\n",
    "model.add(Dense(125, kernel_initializer='glorot_normal', activation='relu'))\n",
    "\n",
    "model.add(Dense(100, kernel_initializer='glorot_normal', activation='relu'))\n",
    "\n",
    "model.add(Dense(75, kernel_initializer='glorot_normal', activation='relu'))\n",
    "\n",
    "model.add(Dense(50, kernel_initializer='glorot_normal', activation='relu'))\n",
    "\n",
    "model.add(Dense(35, kernel_initializer='glorot_normal', activation='relu'))\n",
    "\n",
    "model.add(Dense(2, activation='softmax',kernel_initializer='glorot_normal'))\n"
   ]
  },
  {
   "cell_type": "code",
   "execution_count": 93,
   "metadata": {},
   "outputs": [
    {
     "name": "stdout",
     "output_type": "stream",
     "text": [
      "Model: \"sequential\"\n",
      "_________________________________________________________________\n",
      "Layer (type)                 Output Shape              Param #   \n",
      "=================================================================\n",
      "dense (Dense)                (None, 800)               73600     \n",
      "_________________________________________________________________\n",
      "dense_1 (Dense)              (None, 750)               600750    \n",
      "_________________________________________________________________\n",
      "dense_2 (Dense)              (None, 500)               375500    \n",
      "_________________________________________________________________\n",
      "dense_3 (Dense)              (None, 250)               125250    \n",
      "_________________________________________________________________\n",
      "dense_4 (Dense)              (None, 125)               31375     \n",
      "_________________________________________________________________\n",
      "dense_5 (Dense)              (None, 100)               12600     \n",
      "_________________________________________________________________\n",
      "dense_6 (Dense)              (None, 75)                7575      \n",
      "_________________________________________________________________\n",
      "dense_7 (Dense)              (None, 50)                3800      \n",
      "_________________________________________________________________\n",
      "dense_8 (Dense)              (None, 35)                1785      \n",
      "_________________________________________________________________\n",
      "dense_9 (Dense)              (None, 2)                 72        \n",
      "=================================================================\n",
      "Total params: 1,232,307\n",
      "Trainable params: 1,232,307\n",
      "Non-trainable params: 0\n",
      "_________________________________________________________________\n"
     ]
    }
   ],
   "source": [
    "model.summary()"
   ]
  },
  {
   "cell_type": "code",
   "execution_count": 94,
   "metadata": {},
   "outputs": [
    {
     "data": {
      "text/plain": [
       "readmitted\n",
       "0             62629\n",
       "1              7967\n",
       "dtype: int64"
      ]
     },
     "execution_count": 94,
     "metadata": {},
     "output_type": "execute_result"
    }
   ],
   "source": [
    "y_train.value_counts()"
   ]
  },
  {
   "cell_type": "code",
   "execution_count": 95,
   "metadata": {},
   "outputs": [],
   "source": [
    "model.compile(loss=tf.keras.losses.CategoricalCrossentropy(),\n",
    "              optimizer= tf.keras.optimizers.Adam(),\n",
    "              metrics=tf.keras.metrics.Recall())"
   ]
  },
  {
   "cell_type": "code",
   "execution_count": 96,
   "metadata": {},
   "outputs": [],
   "source": [
    "early_stopping = EarlyStopping(monitor='val_loss', patience=5, mode='min', verbose=1, min_delta=0.005)"
   ]
  },
  {
   "cell_type": "code",
   "execution_count": 97,
   "metadata": {},
   "outputs": [],
   "source": [
    "callbacks=[early_stopping]"
   ]
  },
  {
   "cell_type": "code",
   "execution_count": 98,
   "metadata": {},
   "outputs": [
    {
     "name": "stdout",
     "output_type": "stream",
     "text": [
      "readmitted    1.127209\n",
      "dtype: float64\n",
      "readmitted    8.861052\n",
      "dtype: float64\n"
     ]
    }
   ],
   "source": [
    "w0 = y_train.count()/y_train[y_train==0].count()\n",
    "print(w0)\n",
    "w1 = y_train.count()/y_train[y_train==1].count()\n",
    "print(w1)"
   ]
  },
  {
   "cell_type": "code",
   "execution_count": 99,
   "metadata": {
    "scrolled": true
   },
   "outputs": [
    {
     "name": "stdout",
     "output_type": "stream",
     "text": [
      "Epoch 1/100\n",
      "883/883 [==============================] - 24s 26ms/step - loss: 1.3781 - recall: 0.5745 - val_loss: 0.6737 - val_recall: 0.6665\n",
      "Epoch 2/100\n",
      "883/883 [==============================] - 20s 23ms/step - loss: 1.3462 - recall: 0.6008 - val_loss: 0.7250 - val_recall: 0.5568\n",
      "Epoch 3/100\n",
      "883/883 [==============================] - 21s 24ms/step - loss: 1.3387 - recall: 0.6175 - val_loss: 0.7143 - val_recall: 0.4875\n",
      "Epoch 4/100\n",
      "883/883 [==============================] - 24s 27ms/step - loss: 1.3296 - recall: 0.6158 - val_loss: 0.6841 - val_recall: 0.5734\n",
      "Epoch 5/100\n",
      "883/883 [==============================] - 23s 27ms/step - loss: 1.3280 - recall: 0.6180 - val_loss: 0.6756 - val_recall: 0.5354\n",
      "Epoch 6/100\n",
      "883/883 [==============================] - 21s 24ms/step - loss: 1.3218 - recall: 0.6044 - val_loss: 0.5891 - val_recall: 0.7528\n",
      "Epoch 7/100\n",
      "883/883 [==============================] - 22s 25ms/step - loss: 1.3257 - recall: 0.6022 - val_loss: 0.6896 - val_recall: 0.5919\n",
      "Epoch 8/100\n",
      "883/883 [==============================] - 23s 26ms/step - loss: 1.3179 - recall: 0.6080 - val_loss: 0.6023 - val_recall: 0.6964\n",
      "Epoch 9/100\n",
      "883/883 [==============================] - 21s 24ms/step - loss: 1.3132 - recall: 0.6236 - val_loss: 0.5977 - val_recall: 0.6516\n",
      "Epoch 10/100\n",
      "883/883 [==============================] - 22s 25ms/step - loss: 1.3098 - recall: 0.6038 - val_loss: 0.6927 - val_recall: 0.4799\n",
      "Epoch 11/100\n",
      "883/883 [==============================] - 22s 25ms/step - loss: 1.3223 - recall: 0.5649 - val_loss: 0.6927 - val_recall: 0.5713\n",
      "Epoch 00011: early stopping\n"
     ]
    },
    {
     "data": {
      "text/plain": [
       "<tensorflow.python.keras.callbacks.History at 0x1d5abcc6ac0>"
      ]
     },
     "execution_count": 99,
     "metadata": {},
     "output_type": "execute_result"
    }
   ],
   "source": [
    "model.fit(X_train_final, y_train_ohe,epochs=100,batch_size=64,class_weight= {0: w0, 1:w1},\\\n",
    "          validation_split=0.2,callbacks=callbacks)"
   ]
  },
  {
   "cell_type": "code",
   "execution_count": 100,
   "metadata": {},
   "outputs": [],
   "source": [
    "train_pred=model.predict(X_train_final)\n",
    "val_pred=model.predict(X_val_final)"
   ]
  },
  {
   "cell_type": "code",
   "execution_count": 101,
   "metadata": {},
   "outputs": [
    {
     "data": {
      "text/plain": [
       "array([[0.6916891 , 0.3083109 ],\n",
       "       [0.4802494 , 0.5197506 ],\n",
       "       [0.35516196, 0.64483804],\n",
       "       ...,\n",
       "       [0.32315338, 0.6768466 ],\n",
       "       [0.5882623 , 0.41173762],\n",
       "       [0.5562289 , 0.44377112]], dtype=float32)"
      ]
     },
     "execution_count": 101,
     "metadata": {},
     "output_type": "execute_result"
    }
   ],
   "source": [
    "train_pred"
   ]
  },
  {
   "cell_type": "code",
   "execution_count": 102,
   "metadata": {},
   "outputs": [],
   "source": [
    "def get_indices(array):\n",
    "    x = []\n",
    "    for i in array:\n",
    "        x.append(np.argmax(i))\n",
    "    return np.array(x)"
   ]
  },
  {
   "cell_type": "code",
   "execution_count": 103,
   "metadata": {},
   "outputs": [],
   "source": [
    "train_original = get_indices(y_train_ohe)\n",
    "train_predictions = get_indices(train_pred)\n",
    "val_original = get_indices(y_val_ohe)\n",
    "val_predictions = get_indices(val_pred)"
   ]
  },
  {
   "cell_type": "code",
   "execution_count": 104,
   "metadata": {},
   "outputs": [
    {
     "name": "stdout",
     "output_type": "stream",
     "text": [
      "\n",
      "            =========================================================\n",
      "            CLASSIFICATION REPORT AND CONFUSION MATRIX FOR TRAIN DATA\n",
      "            =========================================================\n",
      "            \n",
      "Predicted      0      1\n",
      "Actual                 \n",
      "0          35520  27109\n",
      "1           2518   5449\n",
      "              precision    recall  f1-score   support\n",
      "\n",
      "           0     0.9338    0.5671    0.7057     62629\n",
      "           1     0.1674    0.6839    0.2689      7967\n",
      "\n",
      "    accuracy                         0.5803     70596\n",
      "   macro avg     0.5506    0.6255    0.4873     70596\n",
      "weighted avg     0.8473    0.5803    0.6564     70596\n",
      "\n",
      "\n",
      "            =========================================================\n",
      "            CLASSIFICATION REPORT AND CONFUSION MATRIX FOR Val DATA\n",
      "            =========================================================\n",
      "            \n",
      "Predicted     0     1\n",
      "Actual               \n",
      "0          8747  6911\n",
      "1           736  1256\n",
      "              precision    recall  f1-score   support\n",
      "\n",
      "           0     0.9224    0.5586    0.6958     15658\n",
      "           1     0.1538    0.6305    0.2473      1992\n",
      "\n",
      "    accuracy                         0.5667     17650\n",
      "   macro avg     0.5381    0.5946    0.4716     17650\n",
      "weighted avg     0.8356    0.5667    0.6452     17650\n",
      "\n"
     ]
    }
   ],
   "source": [
    "scores = get_metrics(train_original, train_predictions, val_original, val_predictions,'NN',scores)"
   ]
  },
  {
   "cell_type": "code",
   "execution_count": 105,
   "metadata": {},
   "outputs": [
    {
     "data": {
      "text/html": [
       "<div>\n",
       "<style scoped>\n",
       "    .dataframe tbody tr th:only-of-type {\n",
       "        vertical-align: middle;\n",
       "    }\n",
       "\n",
       "    .dataframe tbody tr th {\n",
       "        vertical-align: top;\n",
       "    }\n",
       "\n",
       "    .dataframe thead th {\n",
       "        text-align: right;\n",
       "    }\n",
       "</style>\n",
       "<table border=\"1\" class=\"dataframe\">\n",
       "  <thead>\n",
       "    <tr style=\"text-align: right;\">\n",
       "      <th></th>\n",
       "      <th>Model</th>\n",
       "      <th>Train_Recall</th>\n",
       "      <th>Val_Recall</th>\n",
       "      <th>Train_Precision</th>\n",
       "      <th>Val_Precision</th>\n",
       "      <th>Train_F1_Score</th>\n",
       "      <th>Val_F1_Score</th>\n",
       "      <th>Train_Accuracy</th>\n",
       "      <th>Val_Accuracy</th>\n",
       "    </tr>\n",
       "  </thead>\n",
       "  <tbody>\n",
       "    <tr>\n",
       "      <th>0</th>\n",
       "      <td>NN</td>\n",
       "      <td>0.6839</td>\n",
       "      <td>0.6305</td>\n",
       "      <td>0.1674</td>\n",
       "      <td>0.1538</td>\n",
       "      <td>0.269</td>\n",
       "      <td>0.2473</td>\n",
       "      <td>0.5803</td>\n",
       "      <td>0.5667</td>\n",
       "    </tr>\n",
       "  </tbody>\n",
       "</table>\n",
       "</div>"
      ],
      "text/plain": [
       "  Model  Train_Recall  Val_Recall  Train_Precision  Val_Precision  \\\n",
       "0    NN        0.6839      0.6305           0.1674         0.1538   \n",
       "\n",
       "   Train_F1_Score  Val_F1_Score  Train_Accuracy  Val_Accuracy  \n",
       "0           0.269        0.2473          0.5803        0.5667  "
      ]
     },
     "execution_count": 105,
     "metadata": {},
     "output_type": "execute_result"
    }
   ],
   "source": [
    "scores"
   ]
  },
  {
   "cell_type": "code",
   "execution_count": 106,
   "metadata": {},
   "outputs": [],
   "source": [
    "test_pred = model.predict(X_test_final)"
   ]
  },
  {
   "cell_type": "code",
   "execution_count": 107,
   "metadata": {},
   "outputs": [
    {
     "data": {
      "text/plain": [
       "array([[0.7001039 , 0.29989618],\n",
       "       [0.12086729, 0.87913275],\n",
       "       [0.4845445 , 0.5154555 ],\n",
       "       ...,\n",
       "       [0.45021588, 0.5497842 ],\n",
       "       [0.67340535, 0.32659465],\n",
       "       [0.6036472 , 0.3963528 ]], dtype=float32)"
      ]
     },
     "execution_count": 107,
     "metadata": {},
     "output_type": "execute_result"
    }
   ],
   "source": [
    "test_pred"
   ]
  },
  {
   "cell_type": "code",
   "execution_count": 108,
   "metadata": {},
   "outputs": [],
   "source": [
    "test_original = get_indices(y_test_ohe)\n",
    "test_predictions = get_indices(test_pred)"
   ]
  },
  {
   "cell_type": "code",
   "execution_count": 109,
   "metadata": {},
   "outputs": [
    {
     "data": {
      "text/html": [
       "<div>\n",
       "<style scoped>\n",
       "    .dataframe tbody tr th:only-of-type {\n",
       "        vertical-align: middle;\n",
       "    }\n",
       "\n",
       "    .dataframe tbody tr th {\n",
       "        vertical-align: top;\n",
       "    }\n",
       "\n",
       "    .dataframe thead th {\n",
       "        text-align: right;\n",
       "    }\n",
       "</style>\n",
       "<table border=\"1\" class=\"dataframe\">\n",
       "  <thead>\n",
       "    <tr style=\"text-align: right;\">\n",
       "      <th>Predicted</th>\n",
       "      <th>0</th>\n",
       "      <th>1</th>\n",
       "    </tr>\n",
       "    <tr>\n",
       "      <th>Actual</th>\n",
       "      <th></th>\n",
       "      <th></th>\n",
       "    </tr>\n",
       "  </thead>\n",
       "  <tbody>\n",
       "    <tr>\n",
       "      <th>0</th>\n",
       "      <td>4871</td>\n",
       "      <td>3828</td>\n",
       "    </tr>\n",
       "    <tr>\n",
       "      <th>1</th>\n",
       "      <td>424</td>\n",
       "      <td>683</td>\n",
       "    </tr>\n",
       "  </tbody>\n",
       "</table>\n",
       "</div>"
      ],
      "text/plain": [
       "Predicted     0     1\n",
       "Actual               \n",
       "0          4871  3828\n",
       "1           424   683"
      ]
     },
     "execution_count": 109,
     "metadata": {},
     "output_type": "execute_result"
    }
   ],
   "source": [
    "pd.crosstab(test_original,test_predictions, rownames=['Actual'], colnames=['Predicted'])"
   ]
  },
  {
   "cell_type": "code",
   "execution_count": 110,
   "metadata": {},
   "outputs": [
    {
     "name": "stdout",
     "output_type": "stream",
     "text": [
      "              precision    recall  f1-score   support\n",
      "\n",
      "           0       0.92      0.56      0.70      8699\n",
      "           1       0.15      0.62      0.24      1107\n",
      "\n",
      "    accuracy                           0.57      9806\n",
      "   macro avg       0.54      0.59      0.47      9806\n",
      "weighted avg       0.83      0.57      0.65      9806\n",
      "\n"
     ]
    }
   ],
   "source": [
    "print(classification_report(test_original,test_predictions))"
   ]
  },
  {
   "cell_type": "markdown",
   "metadata": {},
   "source": [
    "### This data is highly imbalanced, it was challenging to balance both Precision and Recall"
   ]
  },
  {
   "cell_type": "markdown",
   "metadata": {},
   "source": [
    "* For this dataset, our main intention is to predict correcly those who are admitting to the hospital within 30 days, so we concentrated on Recall.\n",
    "* Recall of 0.53 is the highest I got on this data.\n",
    "* As I have used neural net, it's not possible to extract the important features."
   ]
  },
  {
   "cell_type": "markdown",
   "metadata": {},
   "source": [
    "###                                                              THE END"
   ]
  }
 ],
 "metadata": {
  "kernelspec": {
   "display_name": "Python 3",
   "language": "python",
   "name": "python3"
  },
  "language_info": {
   "codemirror_mode": {
    "name": "ipython",
    "version": 3
   },
   "file_extension": ".py",
   "mimetype": "text/x-python",
   "name": "python",
   "nbconvert_exporter": "python",
   "pygments_lexer": "ipython3",
   "version": "3.8.5"
  }
 },
 "nbformat": 4,
 "nbformat_minor": 4
}
